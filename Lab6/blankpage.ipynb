{
 "cells": [
  {
   "cell_type": "code",
   "execution_count": 137,
   "metadata": {},
   "outputs": [],
   "source": [
    "import pandas as pd\n",
    "import matplotlib.pyplot as plt\n",
    "import seaborn as sns\n",
    "import sklearn\n",
    "from sklearn.neural_network import MLPRegressor\n",
    "from sklearn.linear_model import LinearRegression\n",
    "from sklearn.preprocessing import MinMaxScaler\n",
    "import numpy as np\n",
    "from sklearn.neural_network import MLPClassifier\n",
    "from sklearn.svm import SVC\n",
    "from sklearn.model_selection import train_test_split\n",
    "from sklearn.metrics import accuracy_score\n"
   ]
  },
  {
   "cell_type": "code",
   "execution_count": 138,
   "metadata": {},
   "outputs": [
    {
     "data": {
      "text/html": [
       "<div>\n",
       "<style scoped>\n",
       "    .dataframe tbody tr th:only-of-type {\n",
       "        vertical-align: middle;\n",
       "    }\n",
       "\n",
       "    .dataframe tbody tr th {\n",
       "        vertical-align: top;\n",
       "    }\n",
       "\n",
       "    .dataframe thead th {\n",
       "        text-align: right;\n",
       "    }\n",
       "</style>\n",
       "<table border=\"1\" class=\"dataframe\">\n",
       "  <thead>\n",
       "    <tr style=\"text-align: right;\">\n",
       "      <th></th>\n",
       "      <th>fixed acidity</th>\n",
       "      <th>volatile acidity</th>\n",
       "      <th>citric acid</th>\n",
       "      <th>residual sugar</th>\n",
       "      <th>chlorides</th>\n",
       "      <th>free sulfur dioxide</th>\n",
       "      <th>total sulfur dioxide</th>\n",
       "      <th>density</th>\n",
       "      <th>pH</th>\n",
       "      <th>sulphates</th>\n",
       "      <th>alcohol</th>\n",
       "      <th>quality</th>\n",
       "    </tr>\n",
       "  </thead>\n",
       "  <tbody>\n",
       "    <tr>\n",
       "      <th>0</th>\n",
       "      <td>7.4</td>\n",
       "      <td>0.70</td>\n",
       "      <td>0.00</td>\n",
       "      <td>1.9</td>\n",
       "      <td>0.076</td>\n",
       "      <td>11.0</td>\n",
       "      <td>34.0</td>\n",
       "      <td>0.9978</td>\n",
       "      <td>3.51</td>\n",
       "      <td>0.56</td>\n",
       "      <td>9.4</td>\n",
       "      <td>5</td>\n",
       "    </tr>\n",
       "    <tr>\n",
       "      <th>1</th>\n",
       "      <td>7.8</td>\n",
       "      <td>0.88</td>\n",
       "      <td>0.00</td>\n",
       "      <td>2.6</td>\n",
       "      <td>0.098</td>\n",
       "      <td>25.0</td>\n",
       "      <td>67.0</td>\n",
       "      <td>0.9968</td>\n",
       "      <td>3.20</td>\n",
       "      <td>0.68</td>\n",
       "      <td>9.8</td>\n",
       "      <td>5</td>\n",
       "    </tr>\n",
       "    <tr>\n",
       "      <th>2</th>\n",
       "      <td>7.8</td>\n",
       "      <td>0.76</td>\n",
       "      <td>0.04</td>\n",
       "      <td>2.3</td>\n",
       "      <td>0.092</td>\n",
       "      <td>15.0</td>\n",
       "      <td>54.0</td>\n",
       "      <td>0.9970</td>\n",
       "      <td>3.26</td>\n",
       "      <td>0.65</td>\n",
       "      <td>9.8</td>\n",
       "      <td>5</td>\n",
       "    </tr>\n",
       "    <tr>\n",
       "      <th>3</th>\n",
       "      <td>11.2</td>\n",
       "      <td>0.28</td>\n",
       "      <td>0.56</td>\n",
       "      <td>1.9</td>\n",
       "      <td>0.075</td>\n",
       "      <td>17.0</td>\n",
       "      <td>60.0</td>\n",
       "      <td>0.9980</td>\n",
       "      <td>3.16</td>\n",
       "      <td>0.58</td>\n",
       "      <td>9.8</td>\n",
       "      <td>6</td>\n",
       "    </tr>\n",
       "    <tr>\n",
       "      <th>4</th>\n",
       "      <td>7.4</td>\n",
       "      <td>0.70</td>\n",
       "      <td>0.00</td>\n",
       "      <td>1.9</td>\n",
       "      <td>0.076</td>\n",
       "      <td>11.0</td>\n",
       "      <td>34.0</td>\n",
       "      <td>0.9978</td>\n",
       "      <td>3.51</td>\n",
       "      <td>0.56</td>\n",
       "      <td>9.4</td>\n",
       "      <td>5</td>\n",
       "    </tr>\n",
       "  </tbody>\n",
       "</table>\n",
       "</div>"
      ],
      "text/plain": [
       "   fixed acidity  volatile acidity  citric acid  residual sugar  chlorides  \\\n",
       "0            7.4              0.70         0.00             1.9      0.076   \n",
       "1            7.8              0.88         0.00             2.6      0.098   \n",
       "2            7.8              0.76         0.04             2.3      0.092   \n",
       "3           11.2              0.28         0.56             1.9      0.075   \n",
       "4            7.4              0.70         0.00             1.9      0.076   \n",
       "\n",
       "   free sulfur dioxide  total sulfur dioxide  density    pH  sulphates  \\\n",
       "0                 11.0                  34.0   0.9978  3.51       0.56   \n",
       "1                 25.0                  67.0   0.9968  3.20       0.68   \n",
       "2                 15.0                  54.0   0.9970  3.26       0.65   \n",
       "3                 17.0                  60.0   0.9980  3.16       0.58   \n",
       "4                 11.0                  34.0   0.9978  3.51       0.56   \n",
       "\n",
       "   alcohol  quality  \n",
       "0      9.4        5  \n",
       "1      9.8        5  \n",
       "2      9.8        5  \n",
       "3      9.8        6  \n",
       "4      9.4        5  "
      ]
     },
     "execution_count": 138,
     "metadata": {},
     "output_type": "execute_result"
    }
   ],
   "source": [
    "data = pd.read_csv('/home/miko/anaconda3/envs/PMLDS/PMLDS/Lab5/data/winequality-red.csv',sep=';')\n",
    "data.head()"
   ]
  },
  {
   "cell_type": "code",
   "execution_count": 139,
   "metadata": {},
   "outputs": [],
   "source": [
    "X1=data.loc[:,data.columns != 'quality' ]\n",
    "y=data['quality']"
   ]
  },
  {
   "cell_type": "code",
   "execution_count": 140,
   "metadata": {},
   "outputs": [
    {
     "data": {
      "text/html": [
       "<div>\n",
       "<style scoped>\n",
       "    .dataframe tbody tr th:only-of-type {\n",
       "        vertical-align: middle;\n",
       "    }\n",
       "\n",
       "    .dataframe tbody tr th {\n",
       "        vertical-align: top;\n",
       "    }\n",
       "\n",
       "    .dataframe thead th {\n",
       "        text-align: right;\n",
       "    }\n",
       "</style>\n",
       "<table border=\"1\" class=\"dataframe\">\n",
       "  <thead>\n",
       "    <tr style=\"text-align: right;\">\n",
       "      <th></th>\n",
       "      <th>fixed acidity</th>\n",
       "      <th>volatile acidity</th>\n",
       "      <th>citric acid</th>\n",
       "      <th>residual sugar</th>\n",
       "      <th>chlorides</th>\n",
       "      <th>free sulfur dioxide</th>\n",
       "      <th>total sulfur dioxide</th>\n",
       "      <th>density</th>\n",
       "      <th>pH</th>\n",
       "      <th>sulphates</th>\n",
       "      <th>alcohol</th>\n",
       "    </tr>\n",
       "  </thead>\n",
       "  <tbody>\n",
       "    <tr>\n",
       "      <th>0</th>\n",
       "      <td>0.247788</td>\n",
       "      <td>0.397260</td>\n",
       "      <td>0.00</td>\n",
       "      <td>0.068493</td>\n",
       "      <td>0.106845</td>\n",
       "      <td>0.140845</td>\n",
       "      <td>0.098940</td>\n",
       "      <td>0.567548</td>\n",
       "      <td>0.606299</td>\n",
       "      <td>0.137725</td>\n",
       "      <td>0.153846</td>\n",
       "    </tr>\n",
       "    <tr>\n",
       "      <th>1</th>\n",
       "      <td>0.283186</td>\n",
       "      <td>0.520548</td>\n",
       "      <td>0.00</td>\n",
       "      <td>0.116438</td>\n",
       "      <td>0.143573</td>\n",
       "      <td>0.338028</td>\n",
       "      <td>0.215548</td>\n",
       "      <td>0.494126</td>\n",
       "      <td>0.362205</td>\n",
       "      <td>0.209581</td>\n",
       "      <td>0.215385</td>\n",
       "    </tr>\n",
       "    <tr>\n",
       "      <th>2</th>\n",
       "      <td>0.283186</td>\n",
       "      <td>0.438356</td>\n",
       "      <td>0.04</td>\n",
       "      <td>0.095890</td>\n",
       "      <td>0.133556</td>\n",
       "      <td>0.197183</td>\n",
       "      <td>0.169611</td>\n",
       "      <td>0.508811</td>\n",
       "      <td>0.409449</td>\n",
       "      <td>0.191617</td>\n",
       "      <td>0.215385</td>\n",
       "    </tr>\n",
       "    <tr>\n",
       "      <th>3</th>\n",
       "      <td>0.584071</td>\n",
       "      <td>0.109589</td>\n",
       "      <td>0.56</td>\n",
       "      <td>0.068493</td>\n",
       "      <td>0.105175</td>\n",
       "      <td>0.225352</td>\n",
       "      <td>0.190813</td>\n",
       "      <td>0.582232</td>\n",
       "      <td>0.330709</td>\n",
       "      <td>0.149701</td>\n",
       "      <td>0.215385</td>\n",
       "    </tr>\n",
       "    <tr>\n",
       "      <th>4</th>\n",
       "      <td>0.247788</td>\n",
       "      <td>0.397260</td>\n",
       "      <td>0.00</td>\n",
       "      <td>0.068493</td>\n",
       "      <td>0.106845</td>\n",
       "      <td>0.140845</td>\n",
       "      <td>0.098940</td>\n",
       "      <td>0.567548</td>\n",
       "      <td>0.606299</td>\n",
       "      <td>0.137725</td>\n",
       "      <td>0.153846</td>\n",
       "    </tr>\n",
       "  </tbody>\n",
       "</table>\n",
       "</div>"
      ],
      "text/plain": [
       "   fixed acidity  volatile acidity  citric acid  residual sugar  chlorides  \\\n",
       "0       0.247788          0.397260         0.00        0.068493   0.106845   \n",
       "1       0.283186          0.520548         0.00        0.116438   0.143573   \n",
       "2       0.283186          0.438356         0.04        0.095890   0.133556   \n",
       "3       0.584071          0.109589         0.56        0.068493   0.105175   \n",
       "4       0.247788          0.397260         0.00        0.068493   0.106845   \n",
       "\n",
       "   free sulfur dioxide  total sulfur dioxide   density        pH  sulphates  \\\n",
       "0             0.140845              0.098940  0.567548  0.606299   0.137725   \n",
       "1             0.338028              0.215548  0.494126  0.362205   0.209581   \n",
       "2             0.197183              0.169611  0.508811  0.409449   0.191617   \n",
       "3             0.225352              0.190813  0.582232  0.330709   0.149701   \n",
       "4             0.140845              0.098940  0.567548  0.606299   0.137725   \n",
       "\n",
       "    alcohol  \n",
       "0  0.153846  \n",
       "1  0.215385  \n",
       "2  0.215385  \n",
       "3  0.215385  \n",
       "4  0.153846  "
      ]
     },
     "execution_count": 140,
     "metadata": {},
     "output_type": "execute_result"
    }
   ],
   "source": [
    "minmax_scaler = MinMaxScaler().set_output(transform=\"pandas\")\n",
    "X1_normalized = minmax_scaler.fit_transform(X1)\n",
    "X1_normalized.head()"
   ]
  },
  {
   "cell_type": "code",
   "execution_count": 141,
   "metadata": {},
   "outputs": [
    {
     "data": {
      "text/plain": [
       "(array([ 10.,   0.,  53.,   0., 681.,   0., 638.,   0., 199.,  18.]),\n",
       " array([3. , 3.5, 4. , 4.5, 5. , 5.5, 6. , 6.5, 7. , 7.5, 8. ]),\n",
       " <BarContainer object of 10 artists>)"
      ]
     },
     "execution_count": 141,
     "metadata": {},
     "output_type": "execute_result"
    },
    {
     "data": {
      "image/png": "[encoded data removed]",
      "text/plain": [
       "<Figure size 640x480 with 1 Axes>"
      ]
     },
     "metadata": {},
     "output_type": "display_data"
    }
   ],
   "source": [
    "plt.hist(y,align='mid')"
   ]
  },
  {
   "cell_type": "code",
   "execution_count": 142,
   "metadata": {},
   "outputs": [],
   "source": [
    "X_train, X_test, y_train, y_test = train_test_split(X1_normalized,y,test_size = 0.3,random_state = 42)\n",
    "X_train1, X_val, y_train1, y_val = train_test_split(X_train,y_train,test_size = 0.3,random_state = 42)"
   ]
  },
  {
   "cell_type": "code",
   "execution_count": 143,
   "metadata": {},
   "outputs": [],
   "source": [
    "reg_lin = LinearRegression()\n",
    "reg_lin.fit(X_train1, y_train1)\n",
    "y_pred_train_lin = reg_lin.predict(X_train1)\n",
    "y_pred_lin = reg_lin.predict(X_val)"
   ]
  },
  {
   "cell_type": "code",
   "execution_count": 144,
   "metadata": {},
   "outputs": [
    {
     "name": "stdout",
     "output_type": "stream",
     "text": [
      "rme_training=0.41399613768919474\n",
      "rme_val=0.46459500498121065\n"
     ]
    }
   ],
   "source": [
    "rme_training_lin=sklearn.metrics.mean_squared_error(y_train1,y_pred_train_lin)\n",
    "rme_val_lin=sklearn.metrics.mean_squared_error(y_val,y_pred_lin)\n",
    "print(f'rme_training={rme_training_lin}')\n",
    "print(f'rme_val={rme_val_lin}')"
   ]
  },
  {
   "cell_type": "code",
   "execution_count": 145,
   "metadata": {},
   "outputs": [],
   "source": [
    "\n",
    "# simply with almost default parameters\n",
    "reg_MLP1 = MLPRegressor(random_state=1, max_iter=500)\n",
    "reg_MLP1.fit(X_train1, y_train1)\n",
    "y_pred_train_MLP1 = reg_MLP1.predict(X_train1)\n",
    "y_pred_MLP1 = reg_MLP1.predict(X_val)\n",
    "\n",
    "rme_training_MLP1=sklearn.metrics.mean_squared_error(y_train1,y_pred_train_MLP1)\n",
    "rme_val_MLP1=sklearn.metrics.mean_squared_error(y_val,y_pred_MLP1)\n",
    "\n",
    "# and then try some customization, for example:\n",
    "reg_MLP2 = MLPRegressor(hidden_layer_sizes=(20,10,8, 5), random_state=1,\n",
    "max_iter=1000, solver='sgd',activation='relu',learning_rate='adaptive',early_stopping=True,validation_fraction=0.3)\n",
    "\n",
    "reg_MLP2.fit(X_train1, y_train1)\n",
    "\n",
    "y_pred_train_MLP2 = reg_MLP2.predict(X_train1)\n",
    "y_pred_MLP2 = reg_MLP2.predict(X_val)\n",
    "\n",
    "rme_training_MLP2=sklearn.metrics.mean_squared_error(y_train1,y_pred_train_MLP2)\n",
    "rme_val_MLP2=sklearn.metrics.mean_squared_error(y_val,y_pred_MLP2)\n",
    "\n",
    "\n"
   ]
  },
  {
   "cell_type": "code",
   "execution_count": 146,
   "metadata": {},
   "outputs": [
    {
     "name": "stdout",
     "output_type": "stream",
     "text": [
      "rme_training=0.40805021553509857\n",
      "rme_val=0.45264827707440736\n",
      "rme_training=0.4358078736080623\n",
      "rme_val=0.41918626499871836\n"
     ]
    }
   ],
   "source": [
    "print(f'rme_training={rme_training_MLP1}')\n",
    "print(f'rme_val={rme_val_MLP1}')\n",
    "\n",
    "print(f'rme_training={rme_training_MLP2}')\n",
    "print(f'rme_val={rme_val_MLP2}')"
   ]
  },
  {
   "cell_type": "code",
   "execution_count": 163,
   "metadata": {},
   "outputs": [
    {
     "data": {
      "text/plain": [
       "(array([744.,   0.,   0.,   0.,   0.,   0.,   0.,   0.,   0., 855.]),\n",
       " array([0. , 0.1, 0.2, 0.3, 0.4, 0.5, 0.6, 0.7, 0.8, 0.9, 1. ]),\n",
       " <BarContainer object of 10 artists>)"
      ]
     },
     "execution_count": 163,
     "metadata": {},
     "output_type": "execute_result"
    },
    {
     "data": {
      "image/png": "[encoded data removed]",
      "text/plain": [
       "<Figure size 640x480 with 1 Axes>"
      ]
     },
     "metadata": {},
     "output_type": "display_data"
    }
   ],
   "source": [
    "y_class = y.apply(lambda x: 1 if x > 5.8 else 0)\n",
    "plt.hist(y,align='mid')\n",
    "plt.hist(y_class,align='mid')"
   ]
  },
  {
   "cell_type": "code",
   "execution_count": 161,
   "metadata": {},
   "outputs": [
    {
     "data": {
      "text/plain": [
       "pandas.core.series.Series"
      ]
     },
     "execution_count": 161,
     "metadata": {},
     "output_type": "execute_result"
    }
   ],
   "source": [
    "type(y)"
   ]
  },
  {
   "cell_type": "code",
   "execution_count": 148,
   "metadata": {},
   "outputs": [
    {
     "name": "stdout",
     "output_type": "stream",
     "text": [
      "(1599,)\n",
      "(1599,)\n"
     ]
    }
   ],
   "source": [
    "print(y.shape)\n",
    "print(y_class.shape)"
   ]
  },
  {
   "cell_type": "code",
   "execution_count": null,
   "metadata": {},
   "outputs": [],
   "source": []
  },
  {
   "cell_type": "code",
   "execution_count": 149,
   "metadata": {},
   "outputs": [],
   "source": [
    "X_train, X_test, y_class_train, y_class_test = train_test_split(X1_normalized,y_class,test_size = 0.3,random_state = 42)\n",
    "X_train1, X_val, y_class_train1, y_class_val = train_test_split(X_train,y_class_train,test_size = 0.3,random_state = 42)"
   ]
  },
  {
   "cell_type": "code",
   "execution_count": 150,
   "metadata": {},
   "outputs": [],
   "source": [
    "clf = sklearn.linear_model.LogisticRegression()\n",
    "\n",
    "clf.fit(X_train1,y_class_train1)\n",
    "\n",
    "y_class_pred_train = clf.predict(X_train1)\n",
    "y_class_pred = clf.predict(X_val)\n",
    "\n",
    "rme_training_clf=sklearn.metrics.mean_squared_error(y_class_train1,y_class_pred_train)\n",
    "rme_val_clf=sklearn.metrics.mean_squared_error(y_class_val,y_class_pred)\n"
   ]
  },
  {
   "cell_type": "code",
   "execution_count": 151,
   "metadata": {},
   "outputs": [
    {
     "name": "stdout",
     "output_type": "stream",
     "text": [
      "rme_training=0.4358078736080623\n",
      "rme_val=0.41918626499871836\n"
     ]
    }
   ],
   "source": [
    "print(f'rme_training={rme_training_MLP2}')\n",
    "print(f'rme_val={rme_val_MLP2}')"
   ]
  },
  {
   "cell_type": "code",
   "execution_count": 152,
   "metadata": {},
   "outputs": [
    {
     "name": "stdout",
     "output_type": "stream",
     "text": [
      "acc_train_clf=0.7471264367816092\n",
      "acc_val_clf=0.7648809523809523\n"
     ]
    }
   ],
   "source": [
    "acc_train_clf = accuracy_score(y_class_train1, y_class_pred_train)\n",
    "acc_val_clf = accuracy_score(y_class_val, y_class_pred)\n",
    "print(f'acc_train_clf={acc_train_clf}')\n",
    "print(f'acc_val_clf={acc_val_clf}')\n"
   ]
  },
  {
   "cell_type": "code",
   "execution_count": 153,
   "metadata": {},
   "outputs": [
    {
     "data": {
      "text/html": [
       "<div>\n",
       "<style scoped>\n",
       "    .dataframe tbody tr th:only-of-type {\n",
       "        vertical-align: middle;\n",
       "    }\n",
       "\n",
       "    .dataframe tbody tr th {\n",
       "        vertical-align: top;\n",
       "    }\n",
       "\n",
       "    .dataframe thead th {\n",
       "        text-align: right;\n",
       "    }\n",
       "</style>\n",
       "<table border=\"1\" class=\"dataframe\">\n",
       "  <thead>\n",
       "    <tr style=\"text-align: right;\">\n",
       "      <th></th>\n",
       "      <th>alcohol</th>\n",
       "      <th>volatile acidity</th>\n",
       "      <th>total sulfur dioxide</th>\n",
       "      <th>sulphates</th>\n",
       "    </tr>\n",
       "  </thead>\n",
       "  <tbody>\n",
       "    <tr>\n",
       "      <th>0</th>\n",
       "      <td>0.153846</td>\n",
       "      <td>0.397260</td>\n",
       "      <td>0.098940</td>\n",
       "      <td>0.137725</td>\n",
       "    </tr>\n",
       "    <tr>\n",
       "      <th>1</th>\n",
       "      <td>0.215385</td>\n",
       "      <td>0.520548</td>\n",
       "      <td>0.215548</td>\n",
       "      <td>0.209581</td>\n",
       "    </tr>\n",
       "    <tr>\n",
       "      <th>2</th>\n",
       "      <td>0.215385</td>\n",
       "      <td>0.438356</td>\n",
       "      <td>0.169611</td>\n",
       "      <td>0.191617</td>\n",
       "    </tr>\n",
       "    <tr>\n",
       "      <th>3</th>\n",
       "      <td>0.215385</td>\n",
       "      <td>0.109589</td>\n",
       "      <td>0.190813</td>\n",
       "      <td>0.149701</td>\n",
       "    </tr>\n",
       "    <tr>\n",
       "      <th>4</th>\n",
       "      <td>0.153846</td>\n",
       "      <td>0.397260</td>\n",
       "      <td>0.098940</td>\n",
       "      <td>0.137725</td>\n",
       "    </tr>\n",
       "  </tbody>\n",
       "</table>\n",
       "</div>"
      ],
      "text/plain": [
       "    alcohol  volatile acidity  total sulfur dioxide  sulphates\n",
       "0  0.153846          0.397260              0.098940   0.137725\n",
       "1  0.215385          0.520548              0.215548   0.209581\n",
       "2  0.215385          0.438356              0.169611   0.191617\n",
       "3  0.215385          0.109589              0.190813   0.149701\n",
       "4  0.153846          0.397260              0.098940   0.137725"
      ]
     },
     "execution_count": 153,
     "metadata": {},
     "output_type": "execute_result"
    }
   ],
   "source": [
    "selected_columns=['alcohol', 'volatile acidity', 'total sulfur dioxide', 'sulphates']\n",
    "selected_columns2=['pH', 'free sulfur dioxide', 'residual sugar', 'fixed acidity']\n",
    "X2=X1_normalized[selected_columns]\n",
    "X3=X1_normalized[selected_columns2]\n",
    "X2.head()\n"
   ]
  },
  {
   "cell_type": "code",
   "execution_count": 154,
   "metadata": {},
   "outputs": [
    {
     "data": {
      "text/html": [
       "<div>\n",
       "<style scoped>\n",
       "    .dataframe tbody tr th:only-of-type {\n",
       "        vertical-align: middle;\n",
       "    }\n",
       "\n",
       "    .dataframe tbody tr th {\n",
       "        vertical-align: top;\n",
       "    }\n",
       "\n",
       "    .dataframe thead th {\n",
       "        text-align: right;\n",
       "    }\n",
       "</style>\n",
       "<table border=\"1\" class=\"dataframe\">\n",
       "  <thead>\n",
       "    <tr style=\"text-align: right;\">\n",
       "      <th></th>\n",
       "      <th>pH</th>\n",
       "      <th>free sulfur dioxide</th>\n",
       "      <th>residual sugar</th>\n",
       "      <th>fixed acidity</th>\n",
       "    </tr>\n",
       "  </thead>\n",
       "  <tbody>\n",
       "    <tr>\n",
       "      <th>0</th>\n",
       "      <td>0.606299</td>\n",
       "      <td>0.140845</td>\n",
       "      <td>0.068493</td>\n",
       "      <td>0.247788</td>\n",
       "    </tr>\n",
       "    <tr>\n",
       "      <th>1</th>\n",
       "      <td>0.362205</td>\n",
       "      <td>0.338028</td>\n",
       "      <td>0.116438</td>\n",
       "      <td>0.283186</td>\n",
       "    </tr>\n",
       "    <tr>\n",
       "      <th>2</th>\n",
       "      <td>0.409449</td>\n",
       "      <td>0.197183</td>\n",
       "      <td>0.095890</td>\n",
       "      <td>0.283186</td>\n",
       "    </tr>\n",
       "    <tr>\n",
       "      <th>3</th>\n",
       "      <td>0.330709</td>\n",
       "      <td>0.225352</td>\n",
       "      <td>0.068493</td>\n",
       "      <td>0.584071</td>\n",
       "    </tr>\n",
       "    <tr>\n",
       "      <th>4</th>\n",
       "      <td>0.606299</td>\n",
       "      <td>0.140845</td>\n",
       "      <td>0.068493</td>\n",
       "      <td>0.247788</td>\n",
       "    </tr>\n",
       "  </tbody>\n",
       "</table>\n",
       "</div>"
      ],
      "text/plain": [
       "         pH  free sulfur dioxide  residual sugar  fixed acidity\n",
       "0  0.606299             0.140845        0.068493       0.247788\n",
       "1  0.362205             0.338028        0.116438       0.283186\n",
       "2  0.409449             0.197183        0.095890       0.283186\n",
       "3  0.330709             0.225352        0.068493       0.584071\n",
       "4  0.606299             0.140845        0.068493       0.247788"
      ]
     },
     "execution_count": 154,
     "metadata": {},
     "output_type": "execute_result"
    }
   ],
   "source": [
    "X3.head()"
   ]
  },
  {
   "cell_type": "code",
   "execution_count": 155,
   "metadata": {},
   "outputs": [],
   "source": [
    "X2_train, X2_test, y2_class_train, y2_test = train_test_split(X2,y_class,test_size = 0.3,random_state = 42)\n",
    "X3_train, X3_val, y3_class_train, y3_test = train_test_split(X3,y_class,test_size = 0.3,random_state = 42)"
   ]
  },
  {
   "cell_type": "code",
   "execution_count": 156,
   "metadata": {},
   "outputs": [],
   "source": [
    "clf2 = sklearn.linear_model.LogisticRegression()\n",
    "\n",
    "clf2.fit(X2_train,y2_class_train)\n",
    "\n",
    "y2_class_pred_train = clf2.predict(X2_train)\n",
    "y2_class_pred = clf2.predict(X2_test)\n",
    "\n",
    "rme_training_clf2=sklearn.metrics.mean_squared_error(y2_class_train,y2_class_pred_train)\n",
    "rme_val_clf2=sklearn.metrics.mean_squared_error(y2_test,y2_class_pred)\n",
    "\n",
    "\n",
    "\n",
    "clf3 = sklearn.linear_model.LogisticRegression()\n",
    "\n",
    "clf3.fit(X3_train,y3_class_train)\n",
    "\n",
    "y3_class_pred_train = clf3.predict(X3_train)\n",
    "y3_class_pred = clf3.predict(X3_val)\n",
    "\n",
    "rme_training_clf3=sklearn.metrics.mean_squared_error(y3_class_train,y3_class_pred_train)\n",
    "rme_val_clf3=sklearn.metrics.mean_squared_error(y3_test,y3_class_pred)\n",
    "\n",
    "\n",
    "\n",
    "acc_train_clf2 = accuracy_score(y2_class_train, y2_class_pred_train)\n",
    "acc_val_clf2 = accuracy_score(y2_test, y2_class_pred)\n",
    "\n",
    "acc_train_clf3 = accuracy_score(y3_class_train, y3_class_pred_train)\n",
    "acc_val_clf3 = accuracy_score(y3_test, y3_class_pred)\n"
   ]
  },
  {
   "cell_type": "code",
   "execution_count": 159,
   "metadata": {},
   "outputs": [
    {
     "name": "stdout",
     "output_type": "stream",
     "text": [
      "rme_training_clf2= 0.2457551385165326\n",
      "rme_val_clf2= 0.2875\n",
      "rme_training_clf3= 0.44235924932975873\n",
      "rme_val_clf3= 0.425\n",
      "acc_train_clf2= 0.7542448614834674\n",
      "acc_val_clf2= 0.7125\n",
      "acc_train_clf3= 0.5576407506702413\n",
      "acc_val_clf3= 0.575\n"
     ]
    }
   ],
   "source": [
    "print(f'rme_training_clf2= {rme_training_clf2}')\n",
    "print(f'rme_val_clf2= {rme_val_clf2}')\n",
    "print(f'rme_training_clf3= {rme_training_clf3}')\n",
    "print(f'rme_val_clf3= {rme_val_clf3}')\n",
    "\n",
    "print(f'acc_train_clf2= {acc_train_clf2}')\n",
    "print(f'acc_val_clf2= {acc_val_clf2}')\n",
    "print(f'acc_train_clf3= {acc_train_clf3}')\n",
    "print(f'acc_val_clf3= {acc_val_clf3}')"
   ]
  },
  {
   "cell_type": "code",
   "execution_count": 166,
   "metadata": {},
   "outputs": [],
   "source": [
    "X_svm_train, X_svm_test, y_svm_train, y_svm_test = train_test_split(X2,y,test_size = 0.3,random_state = 42)"
   ]
  },
  {
   "cell_type": "code",
   "execution_count": 169,
   "metadata": {},
   "outputs": [],
   "source": [
    "svm_classifier = sklearn.svm.SVC(kernel='rbf')\n",
    "# Train the SVM classifier\n",
    "svm_classifier.fit(X_svm_train, y_svm_train)\n",
    "\n",
    "# Make predictions on the test set\n",
    "y_pred_train = svm_classifier.predict(X_svm_train)\n",
    "y_pred_test = svm_classifier.predict(X_svm_test)\n",
    "\n",
    "svm_classifier2 = sklearn.svm.SVC(kernel='poly')\n",
    "# Train the SVM classifier\n",
    "svm_classifier2.fit(X_svm_train, y_svm_train)\n",
    "\n",
    "# Make predictions on the test set\n",
    "y_pred_train2 = svm_classifier.predict(X_svm_train)\n",
    "y_pred_test2 = svm_classifier.predict(X_svm_test)\n",
    "\n",
    "\n",
    "\n",
    "y_pred_train=sklearn.metrics.mean_squared_error(y_svm_train,y_pred_train)\n",
    "y_pred_test=sklearn.metrics.mean_squared_error(y_svm_test,y_pred_test)\n",
    "\n",
    "y_pred_train2=sklearn.metrics.mean_squared_error(y_svm_train,y_pred_train2)\n",
    "y_pred_test2=sklearn.metrics.mean_squared_error(y_svm_test,y_pred_test2)\n"
   ]
  },
  {
   "cell_type": "code",
   "execution_count": 171,
   "metadata": {},
   "outputs": [
    {
     "name": "stdout",
     "output_type": "stream",
     "text": [
      "y_pred_train  0.4709562109025916\n",
      "y_pred_test  0.5020833333333333\n",
      "y_pred_train2  0.4709562109025916\n",
      "y_pred_test2  0.5020833333333333\n"
     ]
    }
   ],
   "source": [
    "print(f'y_pred_train  {y_pred_train}')\n",
    "print(f'y_pred_test  {y_pred_test}')\n",
    "print(f'y_pred_train2  {y_pred_train2}')\n",
    "print(f'y_pred_test2  {y_pred_test2}')\n"
   ]
  }
 ],
 "metadata": {
  "kernelspec": {
   "display_name": "PMLDS",
   "language": "python",
   "name": "python3"
  },
  "language_info": {
   "codemirror_mode": {
    "name": "ipython",
    "version": 3
   },
   "file_extension": ".py",
   "mimetype": "text/x-python",
   "name": "python",
   "nbconvert_exporter": "python",
   "pygments_lexer": "ipython3",
   "version": "3.10.13"
  }
 },
 "nbformat": 4,
 "nbformat_minor": 2
}
