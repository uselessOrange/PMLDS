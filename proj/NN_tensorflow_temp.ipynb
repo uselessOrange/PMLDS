{
  "cells": [
    {
      "cell_type": "code",
      "execution_count": 1,
      "metadata": {
        "id": "2HdHnhMpfL4O"
      },
      "outputs": [
        {
          "name": "stderr",
          "output_type": "stream",
          "text": [
            "2023-11-27 12:27:51.483479: I tensorflow/core/platform/cpu_feature_guard.cc:182] This TensorFlow binary is optimized to use available CPU instructions in performance-critical operations.\n",
            "To enable the following instructions: SSE4.1 SSE4.2 AVX AVX2 FMA, in other operations, rebuild TensorFlow with the appropriate compiler flags.\n"
          ]
        }
      ],
      "source": [
        "from datetime import datetime\n",
        "import pandas as pd\n",
        "import sklearn as sk\n",
        "import numpy as np\n",
        "from sklearn.model_selection import train_test_split\n",
        "from sklearn.preprocessing import MinMaxScaler\n",
        "from sklearn.metrics import mean_squared_error\n",
        "\n",
        "import tensorflow as tf\n",
        "from tensorflow.keras.layers import Dense\n",
        "\n",
        "import matplotlib.pyplot as plt\n"
      ]
    },
    {
      "cell_type": "code",
      "execution_count": 2,
      "metadata": {
        "id": "pwD6bvgofRNo"
      },
      "outputs": [],
      "source": [
        "df_august = pd.read_csv('https://raw.githubusercontent.com/WitoldSurdej/PFML/master/apartments_pl_2023_08.csv')\n",
        "df_september = pd.read_csv('https://raw.githubusercontent.com/WitoldSurdej/PFML/master/apartments_pl_2023_09.csv')\n",
        "df_october = pd.read_csv('https://raw.githubusercontent.com/WitoldSurdej/PFML/master/apartments_pl_2023_10.csv')"
      ]
    },
    {
      "cell_type": "code",
      "execution_count": 3,
      "metadata": {
        "id": "lA-prbO6fWZ3"
      },
      "outputs": [],
      "source": [
        "df_august['Month'] = 0\n",
        "df_september['Month'] = 1\n",
        "df_october['Month'] = 2"
      ]
    },
    {
      "cell_type": "code",
      "execution_count": 4,
      "metadata": {
        "id": "Lgq_4GtmfXxL"
      },
      "outputs": [],
      "source": [
        "frames = [df_august, df_september, df_october]\n",
        "df = pd.concat(frames)"
      ]
    },
    {
      "cell_type": "code",
      "execution_count": 5,
      "metadata": {
        "colab": {
          "base_uri": "https://localhost:8080/"
        },
        "id": "nsm5navJfbcX",
        "outputId": "a2cc4c26-9ea4-4b5a-beda-d89dd59a228e"
      },
      "outputs": [
        {
          "data": {
            "text/plain": [
              "(52592, 29)"
            ]
          },
          "execution_count": 5,
          "metadata": {},
          "output_type": "execute_result"
        }
      ],
      "source": [
        "# Shape of dataframe\n",
        "df.shape"
      ]
    },
    {
      "cell_type": "markdown",
      "metadata": {
        "id": "lZgVZ7DWff8O"
      },
      "source": [
        "saving 1/3 of original data for future"
      ]
    },
    {
      "cell_type": "code",
      "execution_count": 6,
      "metadata": {
        "colab": {
          "base_uri": "https://localhost:8080/"
        },
        "id": "tey3axOZffIS",
        "outputId": "b4f6244c-045e-45a5-8233-3ac56857fb6b"
      },
      "outputs": [
        {
          "name": "stdout",
          "output_type": "stream",
          "text": [
            "df_live.shape = (36814, 29)\n",
            "df_backup.shape = (15778, 29)\n"
          ]
        }
      ],
      "source": [
        "df_live, df_backup = train_test_split(df,test_size=0.3, random_state=42)\n",
        "print(f'df_live.shape = {df_live.shape}')\n",
        "print(f'df_backup.shape = {df_backup.shape}')"
      ]
    },
    {
      "cell_type": "markdown",
      "metadata": {
        "id": "nl9F4hBnitpP"
      },
      "source": [
        "Hierarchy of features:  1) squareMeters  2) Longitude  3) poiCount  4) rooms    5) centreDistance  6)clinicDistance  7) kindergardenDistance\n"
      ]
    },
    {
      "cell_type": "markdown",
      "metadata": {
        "id": "YLXopuXpln5q"
      },
      "source": [
        "Here is where we could do more data processing on df_live like selecting only numerical columns. If we wanted to look for missing values or repetitions then it's better to do it on Xn"
      ]
    },
    {
      "cell_type": "code",
      "execution_count": 7,
      "metadata": {
        "colab": {
          "base_uri": "https://localhost:8080/"
        },
        "id": "fqB0Hqxkqj8a",
        "outputId": "db6a2098-8bf2-40e3-e8de-ccccd133d487"
      },
      "outputs": [
        {
          "name": "stdout",
          "output_type": "stream",
          "text": [
            "df_nums.shape = (36814, 18)\n"
          ]
        }
      ],
      "source": [
        "num_cols = df_live.select_dtypes([np.number]).columns\n",
        "\n",
        "df_nums = df_live[num_cols].reset_index(drop=True)\n",
        "print(f'df_nums.shape = {df_nums.shape}')"
      ]
    },
    {
      "cell_type": "code",
      "execution_count": 8,
      "metadata": {
        "colab": {
          "base_uri": "https://localhost:8080/"
        },
        "id": "YzE40QeIh6c_",
        "outputId": "e6d5ba0d-624d-4839-bfb0-0092d2104597"
      },
      "outputs": [
        {
          "name": "stdout",
          "output_type": "stream",
          "text": [
            "X.shape = (36814, 17)\n",
            "y.shape = (36814,)\n"
          ]
        }
      ],
      "source": [
        "X = df_nums.loc[:,df_nums.columns != 'price']\n",
        "y = df_nums['price'].values\n",
        "\n",
        "print(f'X.shape = {X.shape}')\n",
        "print(f'y.shape = {y.shape}')"
      ]
    },
    {
      "cell_type": "code",
      "execution_count": 9,
      "metadata": {
        "colab": {
          "base_uri": "https://localhost:8080/"
        },
        "id": "tNNZPjJupMQ0",
        "outputId": "e3368903-97a5-46eb-a292-3deadb8653e1"
      },
      "outputs": [
        {
          "name": "stdout",
          "output_type": "stream",
          "text": [
            "<class 'numpy.ndarray'>\n",
            "<class 'pandas.core.frame.DataFrame'>\n",
            "<class 'pandas.core.frame.DataFrame'>\n"
          ]
        }
      ],
      "source": [
        "scaler = MinMaxScaler()\n",
        "X_normalized = scaler.fit_transform(X)\n",
        "\n",
        "X_normalized_df = pd.DataFrame(X_normalized, columns=X.columns)\n",
        "\n",
        "print(type(X_normalized))\n",
        "print(type(X_normalized_df))\n",
        "print(type(X))"
      ]
    },
    {
      "cell_type": "code",
      "execution_count": 10,
      "metadata": {
        "colab": {
          "base_uri": "https://localhost:8080/"
        },
        "id": "8stt6PG7katt",
        "outputId": "bb57788b-b8a2-4b37-9e1c-35bdd56cba65"
      },
      "outputs": [
        {
          "name": "stdout",
          "output_type": "stream",
          "text": [
            "X2.shape = (36814, 2)\n",
            "X3.shape = (36814, 3)\n",
            "X5.shape = (36814, 5)\n",
            "X7.shape = (36814, 7)\n"
          ]
        }
      ],
      "source": [
        "selected_columns_2 = ['squareMeters', 'longitude']\n",
        "selected_columns_3 = ['squareMeters', 'longitude', 'poiCount']\n",
        "selected_columns_5 = ['squareMeters', 'longitude', 'poiCount', 'rooms', 'centreDistance']\n",
        "selected_columns_7 = ['squareMeters', 'longitude', 'poiCount', 'rooms', 'centreDistance', 'clinicDistance', 'kindergartenDistance']\n",
        "\n",
        "X2=X_normalized_df[selected_columns_2]\n",
        "X3=X_normalized_df[selected_columns_3]\n",
        "X5=X_normalized_df[selected_columns_5]\n",
        "X7=X_normalized_df[selected_columns_7]\n",
        "\n",
        "print(f'X2.shape = {X2.shape}')\n",
        "print(f'X3.shape = {X3.shape}')\n",
        "print(f'X5.shape = {X5.shape}')\n",
        "print(f'X7.shape = {X7.shape}')"
      ]
    },
    {
      "cell_type": "code",
      "execution_count": 11,
      "metadata": {
        "colab": {
          "base_uri": "https://localhost:8080/"
        },
        "id": "PY4O7KbuZq4e",
        "outputId": "e0c24ba6-e436-433a-d362-23e8131b683c"
      },
      "outputs": [
        {
          "name": "stdout",
          "output_type": "stream",
          "text": [
            "X1_train1.shape = (20615, 2)\n",
            "X1_validation.shape = (8836, 2)\n",
            "X_test.shape = (7363, 2)\n"
          ]
        }
      ],
      "source": [
        "X_train, X_test, y_train, y_test = train_test_split(X2, y, test_size = 0.2, random_state=42)\n",
        "X1_train1, X1_validation, y1_train1, y1_validation = train_test_split(X_train, y_train, test_size = 0.3, random_state=42)\n",
        "\n",
        "print(f'X1_train1.shape = {X1_train1.shape}')\n",
        "print(f'X1_validation.shape = {X1_validation.shape}')\n",
        "print(f'X_test.shape = {X_test.shape}')\n"
      ]
    },
    {
      "cell_type": "code",
      "execution_count": 28,
      "metadata": {},
      "outputs": [],
      "source": [
        "# Define the neural network architecture\n",
        "model = tf.keras.Sequential()\n",
        "\n",
        "permutations = 3\n",
        "num_iterations=3\n",
        "\n",
        "model_struct=[]\n",
        "\n",
        "rmse_matrix=np.zeros([3,num_iterations,permutations])\n",
        "\n",
        "losses_per_permutation=[]\n",
        "val_losses_per_permutation=[]\n",
        "models=[]"
      ]
    },
    {
      "cell_type": "code",
      "execution_count": 12,
      "metadata": {
        "colab": {
          "base_uri": "https://localhost:8080/"
        },
        "id": "MaJhIthqpHnR",
        "outputId": "e640e58d-d5c8-4053-af58-113427024733"
      },
      "outputs": [
        {
          "name": "stderr",
          "output_type": "stream",
          "text": [
            "2023-11-22 16:04:55.844312: I tensorflow/core/common_runtime/process_util.cc:146] Creating new thread pool with default inter op setting: 2. Tune using inter_op_parallelism_threads for best performance.\n"
          ]
        },
        {
          "name": "stdout",
          "output_type": "stream",
          "text": [
            "Epoch 1/50\n",
            "645/645 [==============================] - 4s 4ms/step - loss: -7715188.0000 - accuracy: 0.0000e+00 - val_loss: -10596383.0000 - val_accuracy: 0.0000e+00\n",
            "Epoch 2/50\n",
            "645/645 [==============================] - 2s 4ms/step - loss: -10568596.0000 - accuracy: 0.0000e+00 - val_loss: -10606566.0000 - val_accuracy: 0.0000e+00\n",
            "Epoch 3/50\n",
            "645/645 [==============================] - 3s 4ms/step - loss: -10583331.0000 - accuracy: 0.0000e+00 - val_loss: -10627384.0000 - val_accuracy: 0.0000e+00\n",
            "Epoch 4/50\n",
            "645/645 [==============================] - 2s 2ms/step - loss: -10653736.0000 - accuracy: 0.0000e+00 - val_loss: -10785653.0000 - val_accuracy: 0.0000e+00\n",
            "Epoch 5/50\n",
            "645/645 [==============================] - 1s 2ms/step - loss: -10759374.0000 - accuracy: 0.0000e+00 - val_loss: -10793927.0000 - val_accuracy: 0.0000e+00\n",
            "Epoch 6/50\n",
            "645/645 [==============================] - 2s 3ms/step - loss: -10761638.0000 - accuracy: 0.0000e+00 - val_loss: -10793927.0000 - val_accuracy: 0.0000e+00\n",
            "Epoch 7/50\n",
            "645/645 [==============================] - 1s 2ms/step - loss: -10761636.0000 - accuracy: 0.0000e+00 - val_loss: -10793927.0000 - val_accuracy: 0.0000e+00\n",
            "Epoch 8/50\n",
            "645/645 [==============================] - 2s 3ms/step - loss: -10761643.0000 - accuracy: 0.0000e+00 - val_loss: -10793927.0000 - val_accuracy: 0.0000e+00\n",
            "Epoch 9/50\n",
            "645/645 [==============================] - 7s 11ms/step - loss: -10761645.0000 - accuracy: 0.0000e+00 - val_loss: -10793927.0000 - val_accuracy: 0.0000e+00\n",
            "Epoch 10/50\n",
            "645/645 [==============================] - 3s 4ms/step - loss: -10761637.0000 - accuracy: 0.0000e+00 - val_loss: -10793927.0000 - val_accuracy: 0.0000e+00\n",
            "645/645 [==============================] - 2s 3ms/step\n",
            "277/277 [==============================] - 0s 1ms/step\n",
            "231/231 [==============================] - 0s 2ms/step\n",
            "Epoch 1/50\n",
            "645/645 [==============================] - 2s 3ms/step - loss: -10761644.0000 - accuracy: 0.0000e+00 - val_loss: -10793927.0000 - val_accuracy: 0.0000e+00\n",
            "Epoch 2/50\n",
            "645/645 [==============================] - 2s 3ms/step - loss: -10761638.0000 - accuracy: 0.0000e+00 - val_loss: -10793927.0000 - val_accuracy: 0.0000e+00\n",
            "Epoch 3/50\n",
            "645/645 [==============================] - 2s 2ms/step - loss: -10761633.0000 - accuracy: 0.0000e+00 - val_loss: -10793927.0000 - val_accuracy: 0.0000e+00\n",
            "Epoch 4/50\n",
            "645/645 [==============================] - 2s 2ms/step - loss: -10761644.0000 - accuracy: 0.0000e+00 - val_loss: -10793927.0000 - val_accuracy: 0.0000e+00\n",
            "Epoch 5/50\n",
            "645/645 [==============================] - 7s 11ms/step - loss: -10761635.0000 - accuracy: 0.0000e+00 - val_loss: -10793927.0000 - val_accuracy: 0.0000e+00\n",
            "Epoch 6/50\n",
            "645/645 [==============================] - 2s 4ms/step - loss: -10761641.0000 - accuracy: 0.0000e+00 - val_loss: -10793927.0000 - val_accuracy: 0.0000e+00\n",
            "645/645 [==============================] - 1s 2ms/step\n",
            "277/277 [==============================] - 0s 2ms/step\n",
            "231/231 [==============================] - 0s 1ms/step\n",
            "Epoch 1/50\n",
            "645/645 [==============================] - 2s 3ms/step - loss: -10761637.0000 - accuracy: 0.0000e+00 - val_loss: -10793927.0000 - val_accuracy: 0.0000e+00\n",
            "Epoch 2/50\n",
            "645/645 [==============================] - 2s 3ms/step - loss: -10761634.0000 - accuracy: 0.0000e+00 - val_loss: -10793927.0000 - val_accuracy: 0.0000e+00\n",
            "Epoch 3/50\n",
            "645/645 [==============================] - 1s 2ms/step - loss: -10761644.0000 - accuracy: 0.0000e+00 - val_loss: -10793927.0000 - val_accuracy: 0.0000e+00\n",
            "Epoch 4/50\n",
            "645/645 [==============================] - 2s 3ms/step - loss: -10761641.0000 - accuracy: 0.0000e+00 - val_loss: -10793927.0000 - val_accuracy: 0.0000e+00\n",
            "Epoch 5/50\n",
            "645/645 [==============================] - 6s 10ms/step - loss: -10761644.0000 - accuracy: 0.0000e+00 - val_loss: -10793927.0000 - val_accuracy: 0.0000e+00\n",
            "Epoch 6/50\n",
            "645/645 [==============================] - 2s 2ms/step - loss: -10761639.0000 - accuracy: 0.0000e+00 - val_loss: -10793927.0000 - val_accuracy: 0.0000e+00\n",
            "645/645 [==============================] - 1s 2ms/step\n",
            "277/277 [==============================] - 0s 1ms/step\n",
            "231/231 [==============================] - 0s 2ms/step\n",
            "Epoch 1/50\n",
            "645/645 [==============================] - 2s 3ms/step - loss: 10885658.0000 - accuracy: 0.0000e+00 - val_loss: 10918314.0000 - val_accuracy: 0.0000e+00\n",
            "Epoch 2/50\n",
            "645/645 [==============================] - 2s 3ms/step - loss: 10885655.0000 - accuracy: 0.0000e+00 - val_loss: 10918314.0000 - val_accuracy: 0.0000e+00\n",
            "Epoch 3/50\n",
            "645/645 [==============================] - 2s 3ms/step - loss: 10885656.0000 - accuracy: 0.0000e+00 - val_loss: 10918314.0000 - val_accuracy: 0.0000e+00\n",
            "Epoch 4/50\n",
            "645/645 [==============================] - 2s 3ms/step - loss: 10885659.0000 - accuracy: 0.0000e+00 - val_loss: 10918314.0000 - val_accuracy: 0.0000e+00\n",
            "Epoch 5/50\n",
            "645/645 [==============================] - 2s 3ms/step - loss: 10885662.0000 - accuracy: 0.0000e+00 - val_loss: 10918314.0000 - val_accuracy: 0.0000e+00\n",
            "Epoch 6/50\n",
            "645/645 [==============================] - 2s 3ms/step - loss: 10885661.0000 - accuracy: 0.0000e+00 - val_loss: 10918314.0000 - val_accuracy: 0.0000e+00\n",
            "645/645 [==============================] - 1s 2ms/step\n",
            "277/277 [==============================] - 0s 2ms/step\n",
            "231/231 [==============================] - 0s 1ms/step\n",
            "Epoch 1/50\n",
            "645/645 [==============================] - 2s 4ms/step - loss: 10885662.0000 - accuracy: 0.0000e+00 - val_loss: 10918314.0000 - val_accuracy: 0.0000e+00\n",
            "Epoch 2/50\n",
            "645/645 [==============================] - 2s 3ms/step - loss: 10885653.0000 - accuracy: 0.0000e+00 - val_loss: 10918314.0000 - val_accuracy: 0.0000e+00\n",
            "Epoch 3/50\n",
            "645/645 [==============================] - 2s 3ms/step - loss: 10885658.0000 - accuracy: 0.0000e+00 - val_loss: 10918314.0000 - val_accuracy: 0.0000e+00\n",
            "Epoch 4/50\n",
            "645/645 [==============================] - 2s 3ms/step - loss: 10885658.0000 - accuracy: 0.0000e+00 - val_loss: 10918314.0000 - val_accuracy: 0.0000e+00\n",
            "Epoch 5/50\n",
            "645/645 [==============================] - 2s 3ms/step - loss: 10885666.0000 - accuracy: 0.0000e+00 - val_loss: 10918314.0000 - val_accuracy: 0.0000e+00\n",
            "Epoch 6/50\n",
            "645/645 [==============================] - 2s 3ms/step - loss: 10885657.0000 - accuracy: 0.0000e+00 - val_loss: 10918314.0000 - val_accuracy: 0.0000e+00\n",
            "645/645 [==============================] - 1s 2ms/step\n",
            "277/277 [==============================] - 1s 2ms/step\n",
            "231/231 [==============================] - 1s 3ms/step\n",
            "Epoch 1/50\n",
            "645/645 [==============================] - 3s 4ms/step - loss: 10885662.0000 - accuracy: 0.0000e+00 - val_loss: 10918314.0000 - val_accuracy: 0.0000e+00\n",
            "Epoch 2/50\n",
            "645/645 [==============================] - 3s 5ms/step - loss: 10885658.0000 - accuracy: 0.0000e+00 - val_loss: 10918314.0000 - val_accuracy: 0.0000e+00\n",
            "Epoch 3/50\n",
            "645/645 [==============================] - 2s 4ms/step - loss: 10885655.0000 - accuracy: 0.0000e+00 - val_loss: 10918314.0000 - val_accuracy: 0.0000e+00\n",
            "Epoch 4/50\n",
            "645/645 [==============================] - 2s 3ms/step - loss: 10885662.0000 - accuracy: 0.0000e+00 - val_loss: 10918314.0000 - val_accuracy: 0.0000e+00\n",
            "Epoch 5/50\n",
            "645/645 [==============================] - 2s 3ms/step - loss: 10885662.0000 - accuracy: 0.0000e+00 - val_loss: 10918314.0000 - val_accuracy: 0.0000e+00\n",
            "Epoch 6/50\n",
            "645/645 [==============================] - 2s 4ms/step - loss: 10885661.0000 - accuracy: 0.0000e+00 - val_loss: 10918314.0000 - val_accuracy: 0.0000e+00\n",
            "645/645 [==============================] - 1s 2ms/step\n",
            "277/277 [==============================] - 1s 2ms/step\n",
            "231/231 [==============================] - 1s 3ms/step\n",
            "Epoch 1/50\n",
            "645/645 [==============================] - 4s 4ms/step - loss: 10885664.0000 - accuracy: 0.0000e+00 - val_loss: 10918314.0000 - val_accuracy: 0.0000e+00\n",
            "Epoch 2/50\n",
            "645/645 [==============================] - 2s 4ms/step - loss: 10885658.0000 - accuracy: 0.0000e+00 - val_loss: 10918314.0000 - val_accuracy: 0.0000e+00\n",
            "Epoch 3/50\n",
            "645/645 [==============================] - 2s 4ms/step - loss: 10885662.0000 - accuracy: 0.0000e+00 - val_loss: 10918314.0000 - val_accuracy: 0.0000e+00\n",
            "Epoch 4/50\n",
            "645/645 [==============================] - 2s 4ms/step - loss: 10885664.0000 - accuracy: 0.0000e+00 - val_loss: 10918314.0000 - val_accuracy: 0.0000e+00\n",
            "Epoch 5/50\n",
            "645/645 [==============================] - 2s 3ms/step - loss: 10885658.0000 - accuracy: 0.0000e+00 - val_loss: 10918314.0000 - val_accuracy: 0.0000e+00\n",
            "Epoch 6/50\n",
            "645/645 [==============================] - 2s 4ms/step - loss: 10885661.0000 - accuracy: 0.0000e+00 - val_loss: 10918314.0000 - val_accuracy: 0.0000e+00\n",
            "645/645 [==============================] - 1s 2ms/step\n",
            "277/277 [==============================] - 0s 2ms/step\n",
            "231/231 [==============================] - 1s 2ms/step\n",
            "Epoch 1/50\n",
            "645/645 [==============================] - 3s 5ms/step - loss: 10885650.0000 - accuracy: 0.0000e+00 - val_loss: 10918314.0000 - val_accuracy: 0.0000e+00\n",
            "Epoch 2/50\n",
            "645/645 [==============================] - 3s 4ms/step - loss: 10885662.0000 - accuracy: 0.0000e+00 - val_loss: 10918314.0000 - val_accuracy: 0.0000e+00\n",
            "Epoch 3/50\n",
            "645/645 [==============================] - 2s 3ms/step - loss: 10885665.0000 - accuracy: 0.0000e+00 - val_loss: 10918314.0000 - val_accuracy: 0.0000e+00\n",
            "Epoch 4/50\n",
            "645/645 [==============================] - 3s 5ms/step - loss: 10885654.0000 - accuracy: 0.0000e+00 - val_loss: 10918314.0000 - val_accuracy: 0.0000e+00\n",
            "Epoch 5/50\n",
            "645/645 [==============================] - 3s 4ms/step - loss: 10885656.0000 - accuracy: 0.0000e+00 - val_loss: 10918314.0000 - val_accuracy: 0.0000e+00\n",
            "Epoch 6/50\n",
            "645/645 [==============================] - 2s 3ms/step - loss: 10885662.0000 - accuracy: 0.0000e+00 - val_loss: 10918314.0000 - val_accuracy: 0.0000e+00\n",
            "645/645 [==============================] - 1s 2ms/step\n",
            "277/277 [==============================] - 0s 2ms/step\n",
            "231/231 [==============================] - 1s 2ms/step\n",
            "Epoch 1/50\n",
            "645/645 [==============================] - 2s 4ms/step - loss: 10885658.0000 - accuracy: 0.0000e+00 - val_loss: 10918314.0000 - val_accuracy: 0.0000e+00\n",
            "Epoch 2/50\n",
            "645/645 [==============================] - 2s 4ms/step - loss: 10885658.0000 - accuracy: 0.0000e+00 - val_loss: 10918314.0000 - val_accuracy: 0.0000e+00\n",
            "Epoch 3/50\n",
            "645/645 [==============================] - 2s 4ms/step - loss: 10885657.0000 - accuracy: 0.0000e+00 - val_loss: 10918314.0000 - val_accuracy: 0.0000e+00\n",
            "Epoch 4/50\n",
            "645/645 [==============================] - 3s 4ms/step - loss: 10885657.0000 - accuracy: 0.0000e+00 - val_loss: 10918314.0000 - val_accuracy: 0.0000e+00\n",
            "Epoch 5/50\n",
            "645/645 [==============================] - 3s 4ms/step - loss: 10885659.0000 - accuracy: 0.0000e+00 - val_loss: 10918314.0000 - val_accuracy: 0.0000e+00\n",
            "Epoch 6/50\n",
            "645/645 [==============================] - 3s 4ms/step - loss: 10885663.0000 - accuracy: 0.0000e+00 - val_loss: 10918314.0000 - val_accuracy: 0.0000e+00\n",
            "645/645 [==============================] - 1s 2ms/step\n",
            "277/277 [==============================] - 0s 1ms/step\n",
            "231/231 [==============================] - 0s 1ms/step\n"
          ]
        }
      ],
      "source": [
        "\n",
        "\n",
        "\n",
        "for permutation in range(permutations):\n",
        "\n",
        "\n",
        "  losses=[]\n",
        "  val_losses=[]\n",
        "\n",
        "\n",
        "  model.add(Dense(2, activation='relu', input_shape=(2,)))\n",
        "  #model.add(Dense(permutation+2, activation='relu'))\n",
        "  model.add(Dense(1, activation='relu'))\n",
        "\n",
        "  model_struct.append([permutation+1,1])\n",
        "\n",
        "  # Compile the model\n",
        "  model.compile(optimizer='adam', loss='binary_crossentropy', metrics=['accuracy'])\n",
        "\n",
        "\n",
        "\n",
        "\n",
        "\n",
        "  for iteration in range(num_iterations):\n",
        "\n",
        "\n",
        "\n",
        "    early_stopping_callback = tf.keras.callbacks.EarlyStopping(\n",
        "      monitor='val_loss',  # Monitor validation loss\n",
        "      patience=5,  # Stop training if no improvement for 5 consecutive epochs\n",
        "      restore_best_weights=True  # Restore model weights to the best observed during training\n",
        "      )\n",
        "\n",
        "\n",
        "\n",
        "    history = model.fit(X1_train1, y1_train1, epochs=50, validation_data=(X1_validation, y1_validation), callbacks=[early_stopping_callback])\n",
        "\n",
        "    models.append(model)\n",
        "\n",
        "    losses.append(history.history['loss'])\n",
        "    val_losses.append(history.history['val_loss'])\n",
        "\n",
        "\n",
        "\n",
        "    y_predict_train = model.predict(X1_train1)\n",
        "    y_predict_val = model.predict(X1_validation)\n",
        "    y_predict_test = model.predict(X_test)\n",
        "\n",
        "\n",
        "\n",
        "\n",
        "    rmse_matrix[0,iteration,permutation]=np.sqrt(mean_squared_error(y1_train1, y_predict_train))\n",
        "    rmse_matrix[1,iteration,permutation]=np.sqrt(mean_squared_error(y1_validation, y_predict_val))\n",
        "    rmse_matrix[2,iteration,permutation]=np.sqrt(mean_squared_error(y_test, y_predict_test))\n",
        "\n",
        "  losses_per_permutation.append(losses)\n",
        "  val_losses_per_permutation.append(val_losses)\n",
        "\n",
        "\n",
        "\n",
        "\n",
        "\n",
        "# Saving each model in the list to a directory\n",
        "for i, model in enumerate(models):\n",
        "    model.save(f'/home/miko/anaconda3/envs/tf/git/PMLDS/proj/models/model_{i}.h5')  # Saving the model to disk with a unique filename\n"
      ]
    },
    {
      "cell_type": "code",
      "execution_count": 29,
      "metadata": {},
      "outputs": [],
      "source": [
        "num_models = permutations*num_iterations\n",
        "\n",
        "loaded_models=[]\n",
        "\n",
        "for i in range(num_models):\n",
        "    loaded_model = tf.keras.models.load_model(f'/home/miko/anaconda3/envs/tf/git/PMLDS/proj/models/model_{i}.h5')  # Load the model from disk\n",
        "    loaded_models.append(loaded_model)\n",
        "    "
      ]
    },
    {
      "cell_type": "code",
      "execution_count": 35,
      "metadata": {},
      "outputs": [
        {
          "name": "stdout",
          "output_type": "stream",
          "text": [
            "645/645 [==============================] - 1s 1ms/step\n",
            "277/277 [==============================] - 0s 1ms/step\n",
            "231/231 [==============================] - 0s 1ms/step\n",
            "645/645 [==============================] - 1s 2ms/step\n",
            "277/277 [==============================] - 1s 2ms/step\n",
            "231/231 [==============================] - 0s 1ms/step\n",
            "645/645 [==============================] - 1s 2ms/step\n"
          ]
        },
        {
          "ename": "KeyboardInterrupt",
          "evalue": "",
          "output_type": "error",
          "traceback": [
            "\u001b[0;31m---------------------------------------------------------------------------\u001b[0m",
            "\u001b[0;31mTypeError\u001b[0m                                 Traceback (most recent call last)",
            "File \u001b[0;32m~/anaconda3/envs/tf/lib/python3.11/site-packages/tensorflow/python/data/util/structure.py:104\u001b[0m, in \u001b[0;36mnormalize_element\u001b[0;34m(element, element_signature)\u001b[0m\n\u001b[1;32m    103\u001b[0m   \u001b[39mif\u001b[39;00m spec \u001b[39mis\u001b[39;00m \u001b[39mNone\u001b[39;00m:\n\u001b[0;32m--> 104\u001b[0m     spec \u001b[39m=\u001b[39m type_spec_from_value(t, use_fallback\u001b[39m=\u001b[39;49m\u001b[39mFalse\u001b[39;49;00m)\n\u001b[1;32m    105\u001b[0m \u001b[39mexcept\u001b[39;00m \u001b[39mTypeError\u001b[39;00m:\n\u001b[1;32m    106\u001b[0m   \u001b[39m# TypeError indicates it was not possible to compute a `TypeSpec` for\u001b[39;00m\n\u001b[1;32m    107\u001b[0m   \u001b[39m# the value. As a fallback try converting the value to a tensor.\u001b[39;00m\n",
            "File \u001b[0;32m~/anaconda3/envs/tf/lib/python3.11/site-packages/tensorflow/python/data/util/structure.py:507\u001b[0m, in \u001b[0;36mtype_spec_from_value\u001b[0;34m(element, use_fallback)\u001b[0m\n\u001b[1;32m    504\u001b[0m     logging\u001b[39m.\u001b[39mvlog(\n\u001b[1;32m    505\u001b[0m         \u001b[39m3\u001b[39m, \u001b[39m\"\u001b[39m\u001b[39mFailed to convert \u001b[39m\u001b[39m%r\u001b[39;00m\u001b[39m to tensor: \u001b[39m\u001b[39m%s\u001b[39;00m\u001b[39m\"\u001b[39m \u001b[39m%\u001b[39m (\u001b[39mtype\u001b[39m(element)\u001b[39m.\u001b[39m\u001b[39m__name__\u001b[39m, e))\n\u001b[0;32m--> 507\u001b[0m \u001b[39mraise\u001b[39;00m \u001b[39mTypeError\u001b[39;00m(\u001b[39m\"\u001b[39m\u001b[39mCould not build a `TypeSpec` for \u001b[39m\u001b[39m{}\u001b[39;00m\u001b[39m with type \u001b[39m\u001b[39m{}\u001b[39;00m\u001b[39m\"\u001b[39m\u001b[39m.\u001b[39mformat(\n\u001b[1;32m    508\u001b[0m     element,\n\u001b[1;32m    509\u001b[0m     \u001b[39mtype\u001b[39m(element)\u001b[39m.\u001b[39m\u001b[39m__name__\u001b[39m))\n",
            "\u001b[0;31mTypeError\u001b[0m: Could not build a `TypeSpec` for        squareMeters  longitude\n36668       0.29280   0.986394\n11938       0.37744   0.455313\n15526       0.84000   0.521698\n18266       0.10480   0.629232\n28920       0.59680   0.744463\n...             ...        ...\n7147        0.18224   0.011508\n33765       0.10896   0.481710\n34708       0.22648   0.749726\n5415        0.20840   0.294466\n29634       0.34560   0.280189\n\n[8836 rows x 2 columns] with type DataFrame",
            "\nDuring handling of the above exception, another exception occurred:\n",
            "\u001b[0;31mKeyboardInterrupt\u001b[0m                         Traceback (most recent call last)",
            "\u001b[1;32m/home/miko/anaconda3/envs/tf/git/PMLDS/proj/NN_tensorflow_temp.ipynb Cell 18\u001b[0m line \u001b[0;36m1\n\u001b[1;32m      <a href='vscode-notebook-cell:/home/miko/anaconda3/envs/tf/git/PMLDS/proj/NN_tensorflow_temp.ipynb#X31sZmlsZQ%3D%3D?line=7'>8</a>\u001b[0m model\u001b[39m=\u001b[39mloaded_models[count]\n\u001b[1;32m     <a href='vscode-notebook-cell:/home/miko/anaconda3/envs/tf/git/PMLDS/proj/NN_tensorflow_temp.ipynb#X31sZmlsZQ%3D%3D?line=11'>12</a>\u001b[0m y_predict_train \u001b[39m=\u001b[39m model\u001b[39m.\u001b[39mpredict(X1_train1)\n\u001b[0;32m---> <a href='vscode-notebook-cell:/home/miko/anaconda3/envs/tf/git/PMLDS/proj/NN_tensorflow_temp.ipynb#X31sZmlsZQ%3D%3D?line=12'>13</a>\u001b[0m y_predict_val \u001b[39m=\u001b[39m model\u001b[39m.\u001b[39;49mpredict(X1_validation)\n\u001b[1;32m     <a href='vscode-notebook-cell:/home/miko/anaconda3/envs/tf/git/PMLDS/proj/NN_tensorflow_temp.ipynb#X31sZmlsZQ%3D%3D?line=13'>14</a>\u001b[0m y_predict_test \u001b[39m=\u001b[39m model\u001b[39m.\u001b[39mpredict(X_test)\n\u001b[1;32m     <a href='vscode-notebook-cell:/home/miko/anaconda3/envs/tf/git/PMLDS/proj/NN_tensorflow_temp.ipynb#X31sZmlsZQ%3D%3D?line=18'>19</a>\u001b[0m rmse_matrix[\u001b[39m0\u001b[39m,iteration,permutation]\u001b[39m=\u001b[39mnp\u001b[39m.\u001b[39msqrt(mean_squared_error(y1_train1, y_predict_train))\n",
            "File \u001b[0;32m~/anaconda3/envs/tf/lib/python3.11/site-packages/keras/utils/traceback_utils.py:65\u001b[0m, in \u001b[0;36mfilter_traceback.<locals>.error_handler\u001b[0;34m(*args, **kwargs)\u001b[0m\n\u001b[1;32m     63\u001b[0m filtered_tb \u001b[39m=\u001b[39m \u001b[39mNone\u001b[39;00m\n\u001b[1;32m     64\u001b[0m \u001b[39mtry\u001b[39;00m:\n\u001b[0;32m---> 65\u001b[0m     \u001b[39mreturn\u001b[39;00m fn(\u001b[39m*\u001b[39;49margs, \u001b[39m*\u001b[39;49m\u001b[39m*\u001b[39;49mkwargs)\n\u001b[1;32m     66\u001b[0m \u001b[39mexcept\u001b[39;00m \u001b[39mException\u001b[39;00m \u001b[39mas\u001b[39;00m e:\n\u001b[1;32m     67\u001b[0m     filtered_tb \u001b[39m=\u001b[39m _process_traceback_frames(e\u001b[39m.\u001b[39m__traceback__)\n",
            "File \u001b[0;32m~/anaconda3/envs/tf/lib/python3.11/site-packages/keras/engine/training.py:2349\u001b[0m, in \u001b[0;36mModel.predict\u001b[0;34m(self, x, batch_size, verbose, steps, callbacks, max_queue_size, workers, use_multiprocessing)\u001b[0m\n\u001b[1;32m   2340\u001b[0m     \u001b[39mexcept\u001b[39;00m \u001b[39mValueError\u001b[39;00m:\n\u001b[1;32m   2341\u001b[0m         warnings\u001b[39m.\u001b[39mwarn(\n\u001b[1;32m   2342\u001b[0m             \u001b[39m\"\u001b[39m\u001b[39mUsing Model.predict with MultiWorkerMirroredStrategy \u001b[39m\u001b[39m\"\u001b[39m\n\u001b[1;32m   2343\u001b[0m             \u001b[39m\"\u001b[39m\u001b[39mor TPUStrategy and AutoShardPolicy.FILE might lead to \u001b[39m\u001b[39m\"\u001b[39m\n\u001b[0;32m   (...)\u001b[0m\n\u001b[1;32m   2346\u001b[0m             stacklevel\u001b[39m=\u001b[39m\u001b[39m2\u001b[39m,\n\u001b[1;32m   2347\u001b[0m         )\n\u001b[0;32m-> 2349\u001b[0m data_handler \u001b[39m=\u001b[39m data_adapter\u001b[39m.\u001b[39;49mget_data_handler(\n\u001b[1;32m   2350\u001b[0m     x\u001b[39m=\u001b[39;49mx,\n\u001b[1;32m   2351\u001b[0m     batch_size\u001b[39m=\u001b[39;49mbatch_size,\n\u001b[1;32m   2352\u001b[0m     steps_per_epoch\u001b[39m=\u001b[39;49msteps,\n\u001b[1;32m   2353\u001b[0m     initial_epoch\u001b[39m=\u001b[39;49m\u001b[39m0\u001b[39;49m,\n\u001b[1;32m   2354\u001b[0m     epochs\u001b[39m=\u001b[39;49m\u001b[39m1\u001b[39;49m,\n\u001b[1;32m   2355\u001b[0m     max_queue_size\u001b[39m=\u001b[39;49mmax_queue_size,\n\u001b[1;32m   2356\u001b[0m     workers\u001b[39m=\u001b[39;49mworkers,\n\u001b[1;32m   2357\u001b[0m     use_multiprocessing\u001b[39m=\u001b[39;49muse_multiprocessing,\n\u001b[1;32m   2358\u001b[0m     model\u001b[39m=\u001b[39;49m\u001b[39mself\u001b[39;49m,\n\u001b[1;32m   2359\u001b[0m     steps_per_execution\u001b[39m=\u001b[39;49m\u001b[39mself\u001b[39;49m\u001b[39m.\u001b[39;49m_steps_per_execution,\n\u001b[1;32m   2360\u001b[0m )\n\u001b[1;32m   2362\u001b[0m \u001b[39m# Container that configures and calls `tf.keras.Callback`s.\u001b[39;00m\n\u001b[1;32m   2363\u001b[0m \u001b[39mif\u001b[39;00m \u001b[39mnot\u001b[39;00m \u001b[39misinstance\u001b[39m(callbacks, callbacks_module\u001b[39m.\u001b[39mCallbackList):\n",
            "File \u001b[0;32m~/anaconda3/envs/tf/lib/python3.11/site-packages/keras/engine/data_adapter.py:1583\u001b[0m, in \u001b[0;36mget_data_handler\u001b[0;34m(*args, **kwargs)\u001b[0m\n\u001b[1;32m   1581\u001b[0m \u001b[39mif\u001b[39;00m \u001b[39mgetattr\u001b[39m(kwargs[\u001b[39m\"\u001b[39m\u001b[39mmodel\u001b[39m\u001b[39m\"\u001b[39m], \u001b[39m\"\u001b[39m\u001b[39m_cluster_coordinator\u001b[39m\u001b[39m\"\u001b[39m, \u001b[39mNone\u001b[39;00m):\n\u001b[1;32m   1582\u001b[0m     \u001b[39mreturn\u001b[39;00m _ClusterCoordinatorDataHandler(\u001b[39m*\u001b[39margs, \u001b[39m*\u001b[39m\u001b[39m*\u001b[39mkwargs)\n\u001b[0;32m-> 1583\u001b[0m \u001b[39mreturn\u001b[39;00m DataHandler(\u001b[39m*\u001b[39;49margs, \u001b[39m*\u001b[39;49m\u001b[39m*\u001b[39;49mkwargs)\n",
            "File \u001b[0;32m~/anaconda3/envs/tf/lib/python3.11/site-packages/keras/engine/data_adapter.py:1260\u001b[0m, in \u001b[0;36mDataHandler.__init__\u001b[0;34m(self, x, y, sample_weight, batch_size, steps_per_epoch, initial_epoch, epochs, shuffle, class_weight, max_queue_size, workers, use_multiprocessing, model, steps_per_execution, distribute)\u001b[0m\n\u001b[1;32m   1257\u001b[0m     \u001b[39mself\u001b[39m\u001b[39m.\u001b[39m_steps_per_execution \u001b[39m=\u001b[39m steps_per_execution\n\u001b[1;32m   1259\u001b[0m adapter_cls \u001b[39m=\u001b[39m select_data_adapter(x, y)\n\u001b[0;32m-> 1260\u001b[0m \u001b[39mself\u001b[39m\u001b[39m.\u001b[39m_adapter \u001b[39m=\u001b[39m adapter_cls(\n\u001b[1;32m   1261\u001b[0m     x,\n\u001b[1;32m   1262\u001b[0m     y,\n\u001b[1;32m   1263\u001b[0m     batch_size\u001b[39m=\u001b[39;49mbatch_size,\n\u001b[1;32m   1264\u001b[0m     steps\u001b[39m=\u001b[39;49msteps_per_epoch,\n\u001b[1;32m   1265\u001b[0m     epochs\u001b[39m=\u001b[39;49mepochs \u001b[39m-\u001b[39;49m initial_epoch,\n\u001b[1;32m   1266\u001b[0m     sample_weights\u001b[39m=\u001b[39;49msample_weight,\n\u001b[1;32m   1267\u001b[0m     shuffle\u001b[39m=\u001b[39;49mshuffle,\n\u001b[1;32m   1268\u001b[0m     max_queue_size\u001b[39m=\u001b[39;49mmax_queue_size,\n\u001b[1;32m   1269\u001b[0m     workers\u001b[39m=\u001b[39;49mworkers,\n\u001b[1;32m   1270\u001b[0m     use_multiprocessing\u001b[39m=\u001b[39;49muse_multiprocessing,\n\u001b[1;32m   1271\u001b[0m     distribution_strategy\u001b[39m=\u001b[39;49mtf\u001b[39m.\u001b[39;49mdistribute\u001b[39m.\u001b[39;49mget_strategy(),\n\u001b[1;32m   1272\u001b[0m     model\u001b[39m=\u001b[39;49mmodel,\n\u001b[1;32m   1273\u001b[0m )\n\u001b[1;32m   1275\u001b[0m strategy \u001b[39m=\u001b[39m tf\u001b[39m.\u001b[39mdistribute\u001b[39m.\u001b[39mget_strategy()\n\u001b[1;32m   1277\u001b[0m \u001b[39mself\u001b[39m\u001b[39m.\u001b[39m_current_step \u001b[39m=\u001b[39m \u001b[39m0\u001b[39m\n",
            "File \u001b[0;32m~/anaconda3/envs/tf/lib/python3.11/site-packages/keras/engine/data_adapter.py:348\u001b[0m, in \u001b[0;36mTensorLikeDataAdapter.__init__\u001b[0;34m(self, x, y, sample_weights, sample_weight_modes, batch_size, epochs, steps, shuffle, **kwargs)\u001b[0m\n\u001b[1;32m    344\u001b[0m     \u001b[39mreturn\u001b[39;00m flat_dataset\n\u001b[1;32m    346\u001b[0m indices_dataset \u001b[39m=\u001b[39m indices_dataset\u001b[39m.\u001b[39mflat_map(slice_batch_indices)\n\u001b[0;32m--> 348\u001b[0m dataset \u001b[39m=\u001b[39m \u001b[39mself\u001b[39;49m\u001b[39m.\u001b[39;49mslice_inputs(indices_dataset, inputs)\n\u001b[1;32m    350\u001b[0m \u001b[39mif\u001b[39;00m shuffle \u001b[39m==\u001b[39m \u001b[39m\"\u001b[39m\u001b[39mbatch\u001b[39m\u001b[39m\"\u001b[39m:\n\u001b[1;32m    352\u001b[0m     \u001b[39mdef\u001b[39;00m \u001b[39mshuffle_batch\u001b[39m(\u001b[39m*\u001b[39mbatch):\n",
            "File \u001b[0;32m~/anaconda3/envs/tf/lib/python3.11/site-packages/keras/engine/data_adapter.py:381\u001b[0m, in \u001b[0;36mTensorLikeDataAdapter.slice_inputs\u001b[0;34m(self, indices_dataset, inputs)\u001b[0m\n\u001b[1;32m    365\u001b[0m \u001b[39mdef\u001b[39;00m \u001b[39mslice_inputs\u001b[39m(\u001b[39mself\u001b[39m, indices_dataset, inputs):\n\u001b[1;32m    366\u001b[0m \u001b[39m    \u001b[39m\u001b[39m\"\"\"Slice inputs into a Dataset of batches.\u001b[39;00m\n\u001b[1;32m    367\u001b[0m \n\u001b[1;32m    368\u001b[0m \u001b[39m    Given a Dataset of batch indices and the unsliced inputs,\u001b[39;00m\n\u001b[0;32m   (...)\u001b[0m\n\u001b[1;32m    378\u001b[0m \u001b[39m      A Dataset of input batches matching the batch indices.\u001b[39;00m\n\u001b[1;32m    379\u001b[0m \u001b[39m    \"\"\"\u001b[39;00m\n\u001b[1;32m    380\u001b[0m     dataset \u001b[39m=\u001b[39m tf\u001b[39m.\u001b[39mdata\u001b[39m.\u001b[39mDataset\u001b[39m.\u001b[39mzip(\n\u001b[0;32m--> 381\u001b[0m         (indices_dataset, tf\u001b[39m.\u001b[39;49mdata\u001b[39m.\u001b[39;49mDataset\u001b[39m.\u001b[39;49mfrom_tensors(inputs)\u001b[39m.\u001b[39mrepeat())\n\u001b[1;32m    382\u001b[0m     )\n\u001b[1;32m    384\u001b[0m     \u001b[39mdef\u001b[39;00m \u001b[39mgrab_batch\u001b[39m(i, data):\n\u001b[1;32m    385\u001b[0m         \u001b[39mreturn\u001b[39;00m tf\u001b[39m.\u001b[39mnest\u001b[39m.\u001b[39mmap_structure(\n\u001b[1;32m    386\u001b[0m             \u001b[39mlambda\u001b[39;00m d: tf\u001b[39m.\u001b[39mgather(d, i, axis\u001b[39m=\u001b[39m\u001b[39m0\u001b[39m), data\n\u001b[1;32m    387\u001b[0m         )\n",
            "File \u001b[0;32m~/anaconda3/envs/tf/lib/python3.11/site-packages/tensorflow/python/data/ops/dataset_ops.py:745\u001b[0m, in \u001b[0;36mDatasetV2.from_tensors\u001b[0;34m(tensors, name)\u001b[0m\n\u001b[1;32m    741\u001b[0m \u001b[39m# Loaded lazily due to a circular dependency (dataset_ops ->\u001b[39;00m\n\u001b[1;32m    742\u001b[0m \u001b[39m# from_tensors_op -> dataset_ops).\u001b[39;00m\n\u001b[1;32m    743\u001b[0m \u001b[39m# pylint: disable=g-import-not-at-top,protected-access\u001b[39;00m\n\u001b[1;32m    744\u001b[0m \u001b[39mfrom\u001b[39;00m \u001b[39mtensorflow\u001b[39;00m\u001b[39m.\u001b[39;00m\u001b[39mpython\u001b[39;00m\u001b[39m.\u001b[39;00m\u001b[39mdata\u001b[39;00m\u001b[39m.\u001b[39;00m\u001b[39mops\u001b[39;00m \u001b[39mimport\u001b[39;00m from_tensors_op\n\u001b[0;32m--> 745\u001b[0m \u001b[39mreturn\u001b[39;00m from_tensors_op\u001b[39m.\u001b[39;49m_from_tensors(tensors, name)\n",
            "File \u001b[0;32m~/anaconda3/envs/tf/lib/python3.11/site-packages/tensorflow/python/data/ops/from_tensors_op.py:23\u001b[0m, in \u001b[0;36m_from_tensors\u001b[0;34m(tensors, name)\u001b[0m\n\u001b[1;32m     22\u001b[0m \u001b[39mdef\u001b[39;00m \u001b[39m_from_tensors\u001b[39m(tensors, name):  \u001b[39m# pylint: disable=unused-private-name\u001b[39;00m\n\u001b[0;32m---> 23\u001b[0m   \u001b[39mreturn\u001b[39;00m _TensorDataset(tensors, name)\n",
            "File \u001b[0;32m~/anaconda3/envs/tf/lib/python3.11/site-packages/tensorflow/python/data/ops/from_tensors_op.py:31\u001b[0m, in \u001b[0;36m_TensorDataset.__init__\u001b[0;34m(self, element, name)\u001b[0m\n\u001b[1;32m     29\u001b[0m \u001b[39mdef\u001b[39;00m \u001b[39m__init__\u001b[39m(\u001b[39mself\u001b[39m, element, name\u001b[39m=\u001b[39m\u001b[39mNone\u001b[39;00m):\n\u001b[1;32m     30\u001b[0m \u001b[39m  \u001b[39m\u001b[39m\"\"\"See `tf.data.Dataset.from_tensors` for details.\"\"\"\u001b[39;00m\n\u001b[0;32m---> 31\u001b[0m   element \u001b[39m=\u001b[39m structure\u001b[39m.\u001b[39;49mnormalize_element(element)\n\u001b[1;32m     32\u001b[0m   \u001b[39mself\u001b[39m\u001b[39m.\u001b[39m_structure \u001b[39m=\u001b[39m structure\u001b[39m.\u001b[39mtype_spec_from_value(element)\n\u001b[1;32m     33\u001b[0m   \u001b[39mself\u001b[39m\u001b[39m.\u001b[39m_tensors \u001b[39m=\u001b[39m structure\u001b[39m.\u001b[39mto_tensor_list(\u001b[39mself\u001b[39m\u001b[39m.\u001b[39m_structure, element)\n",
            "File \u001b[0;32m~/anaconda3/envs/tf/lib/python3.11/site-packages/tensorflow/python/data/util/structure.py:109\u001b[0m, in \u001b[0;36mnormalize_element\u001b[0;34m(element, element_signature)\u001b[0m\n\u001b[1;32m    104\u001b[0m     spec \u001b[39m=\u001b[39m type_spec_from_value(t, use_fallback\u001b[39m=\u001b[39m\u001b[39mFalse\u001b[39;00m)\n\u001b[1;32m    105\u001b[0m \u001b[39mexcept\u001b[39;00m \u001b[39mTypeError\u001b[39;00m:\n\u001b[1;32m    106\u001b[0m   \u001b[39m# TypeError indicates it was not possible to compute a `TypeSpec` for\u001b[39;00m\n\u001b[1;32m    107\u001b[0m   \u001b[39m# the value. As a fallback try converting the value to a tensor.\u001b[39;00m\n\u001b[1;32m    108\u001b[0m   normalized_components\u001b[39m.\u001b[39mappend(\n\u001b[0;32m--> 109\u001b[0m       ops\u001b[39m.\u001b[39;49mconvert_to_tensor(t, name\u001b[39m=\u001b[39;49m\u001b[39m\"\u001b[39;49m\u001b[39mcomponent_\u001b[39;49m\u001b[39m%d\u001b[39;49;00m\u001b[39m\"\u001b[39;49m \u001b[39m%\u001b[39;49m i))\n\u001b[1;32m    110\u001b[0m \u001b[39melse\u001b[39;00m:\n\u001b[1;32m    111\u001b[0m   \u001b[39m# To avoid a circular dependency between dataset_ops and structure,\u001b[39;00m\n\u001b[1;32m    112\u001b[0m   \u001b[39m# we check the class name instead of using `isinstance`.\u001b[39;00m\n\u001b[1;32m    113\u001b[0m   \u001b[39mif\u001b[39;00m spec\u001b[39m.\u001b[39m\u001b[39m__class__\u001b[39m\u001b[39m.\u001b[39m\u001b[39m__name__\u001b[39m \u001b[39m==\u001b[39m \u001b[39m\"\u001b[39m\u001b[39mDatasetSpec\u001b[39m\u001b[39m\"\u001b[39m:\n",
            "File \u001b[0;32m~/anaconda3/envs/tf/lib/python3.11/site-packages/tensorflow/python/profiler/trace.py:183\u001b[0m, in \u001b[0;36mtrace_wrapper.<locals>.inner_wrapper.<locals>.wrapped\u001b[0;34m(*args, **kwargs)\u001b[0m\n\u001b[1;32m    181\u001b[0m   \u001b[39mwith\u001b[39;00m Trace(trace_name, \u001b[39m*\u001b[39m\u001b[39m*\u001b[39mtrace_kwargs):\n\u001b[1;32m    182\u001b[0m     \u001b[39mreturn\u001b[39;00m func(\u001b[39m*\u001b[39margs, \u001b[39m*\u001b[39m\u001b[39m*\u001b[39mkwargs)\n\u001b[0;32m--> 183\u001b[0m \u001b[39mreturn\u001b[39;00m func(\u001b[39m*\u001b[39;49margs, \u001b[39m*\u001b[39;49m\u001b[39m*\u001b[39;49mkwargs)\n",
            "File \u001b[0;32m~/anaconda3/envs/tf/lib/python3.11/site-packages/tensorflow/python/framework/ops.py:1642\u001b[0m, in \u001b[0;36mconvert_to_tensor\u001b[0;34m(value, dtype, name, as_ref, preferred_dtype, dtype_hint, ctx, accepted_result_types)\u001b[0m\n\u001b[1;32m   1633\u001b[0m       \u001b[39mraise\u001b[39;00m \u001b[39mRuntimeError\u001b[39;00m(\n\u001b[1;32m   1634\u001b[0m           _add_error_prefix(\n\u001b[1;32m   1635\u001b[0m               \u001b[39mf\u001b[39m\u001b[39m\"\u001b[39m\u001b[39mConversion function \u001b[39m\u001b[39m{\u001b[39;00mconversion_func\u001b[39m!r}\u001b[39;00m\u001b[39m for type \u001b[39m\u001b[39m\"\u001b[39m\n\u001b[0;32m   (...)\u001b[0m\n\u001b[1;32m   1638\u001b[0m               \u001b[39mf\u001b[39m\u001b[39m\"\u001b[39m\u001b[39mactual = \u001b[39m\u001b[39m{\u001b[39;00mret\u001b[39m.\u001b[39mdtype\u001b[39m.\u001b[39mbase_dtype\u001b[39m.\u001b[39mname\u001b[39m}\u001b[39;00m\u001b[39m\"\u001b[39m,\n\u001b[1;32m   1639\u001b[0m               name\u001b[39m=\u001b[39mname))\n\u001b[1;32m   1641\u001b[0m \u001b[39mif\u001b[39;00m ret \u001b[39mis\u001b[39;00m \u001b[39mNone\u001b[39;00m:\n\u001b[0;32m-> 1642\u001b[0m   ret \u001b[39m=\u001b[39m conversion_func(value, dtype\u001b[39m=\u001b[39;49mdtype, name\u001b[39m=\u001b[39;49mname, as_ref\u001b[39m=\u001b[39;49mas_ref)\n\u001b[1;32m   1644\u001b[0m \u001b[39mif\u001b[39;00m ret \u001b[39mis\u001b[39;00m \u001b[39mNotImplemented\u001b[39m:\n\u001b[1;32m   1645\u001b[0m   \u001b[39mcontinue\u001b[39;00m\n",
            "File \u001b[0;32m~/anaconda3/envs/tf/lib/python3.11/site-packages/tensorflow/python/framework/constant_op.py:344\u001b[0m, in \u001b[0;36m_constant_tensor_conversion_function\u001b[0;34m(v, dtype, name, as_ref)\u001b[0m\n\u001b[1;32m    341\u001b[0m \u001b[39mdef\u001b[39;00m \u001b[39m_constant_tensor_conversion_function\u001b[39m(v, dtype\u001b[39m=\u001b[39m\u001b[39mNone\u001b[39;00m, name\u001b[39m=\u001b[39m\u001b[39mNone\u001b[39;00m,\n\u001b[1;32m    342\u001b[0m                                          as_ref\u001b[39m=\u001b[39m\u001b[39mFalse\u001b[39;00m):\n\u001b[1;32m    343\u001b[0m   _ \u001b[39m=\u001b[39m as_ref\n\u001b[0;32m--> 344\u001b[0m   \u001b[39mreturn\u001b[39;00m constant(v, dtype\u001b[39m=\u001b[39;49mdtype, name\u001b[39m=\u001b[39;49mname)\n",
            "File \u001b[0;32m~/anaconda3/envs/tf/lib/python3.11/site-packages/tensorflow/python/framework/constant_op.py:268\u001b[0m, in \u001b[0;36mconstant\u001b[0;34m(value, dtype, shape, name)\u001b[0m\n\u001b[1;32m    171\u001b[0m \u001b[39m@tf_export\u001b[39m(\u001b[39m\"\u001b[39m\u001b[39mconstant\u001b[39m\u001b[39m\"\u001b[39m, v1\u001b[39m=\u001b[39m[])\n\u001b[1;32m    172\u001b[0m \u001b[39mdef\u001b[39;00m \u001b[39mconstant\u001b[39m(value, dtype\u001b[39m=\u001b[39m\u001b[39mNone\u001b[39;00m, shape\u001b[39m=\u001b[39m\u001b[39mNone\u001b[39;00m, name\u001b[39m=\u001b[39m\u001b[39m\"\u001b[39m\u001b[39mConst\u001b[39m\u001b[39m\"\u001b[39m):\n\u001b[1;32m    173\u001b[0m \u001b[39m  \u001b[39m\u001b[39m\"\"\"Creates a constant tensor from a tensor-like object.\u001b[39;00m\n\u001b[1;32m    174\u001b[0m \n\u001b[1;32m    175\u001b[0m \u001b[39m  Note: All eager `tf.Tensor` values are immutable (in contrast to\u001b[39;00m\n\u001b[0;32m   (...)\u001b[0m\n\u001b[1;32m    266\u001b[0m \u001b[39m    ValueError: if called on a symbolic tensor.\u001b[39;00m\n\u001b[1;32m    267\u001b[0m \u001b[39m  \"\"\"\u001b[39;00m\n\u001b[0;32m--> 268\u001b[0m   \u001b[39mreturn\u001b[39;00m _constant_impl(value, dtype, shape, name, verify_shape\u001b[39m=\u001b[39;49m\u001b[39mFalse\u001b[39;49;00m,\n\u001b[1;32m    269\u001b[0m                         allow_broadcast\u001b[39m=\u001b[39;49m\u001b[39mTrue\u001b[39;49;00m)\n",
            "File \u001b[0;32m~/anaconda3/envs/tf/lib/python3.11/site-packages/tensorflow/python/framework/constant_op.py:280\u001b[0m, in \u001b[0;36m_constant_impl\u001b[0;34m(value, dtype, shape, name, verify_shape, allow_broadcast)\u001b[0m\n\u001b[1;32m    278\u001b[0m     \u001b[39mwith\u001b[39;00m trace\u001b[39m.\u001b[39mTrace(\u001b[39m\"\u001b[39m\u001b[39mtf.constant\u001b[39m\u001b[39m\"\u001b[39m):\n\u001b[1;32m    279\u001b[0m       \u001b[39mreturn\u001b[39;00m _constant_eager_impl(ctx, value, dtype, shape, verify_shape)\n\u001b[0;32m--> 280\u001b[0m   \u001b[39mreturn\u001b[39;00m _constant_eager_impl(ctx, value, dtype, shape, verify_shape)\n\u001b[1;32m    282\u001b[0m g \u001b[39m=\u001b[39m ops\u001b[39m.\u001b[39mget_default_graph()\n\u001b[1;32m    283\u001b[0m tensor_value \u001b[39m=\u001b[39m attr_value_pb2\u001b[39m.\u001b[39mAttrValue()\n",
            "File \u001b[0;32m~/anaconda3/envs/tf/lib/python3.11/site-packages/tensorflow/python/framework/constant_op.py:305\u001b[0m, in \u001b[0;36m_constant_eager_impl\u001b[0;34m(ctx, value, dtype, shape, verify_shape)\u001b[0m\n\u001b[1;32m    303\u001b[0m \u001b[39mdef\u001b[39;00m \u001b[39m_constant_eager_impl\u001b[39m(ctx, value, dtype, shape, verify_shape):\n\u001b[1;32m    304\u001b[0m \u001b[39m  \u001b[39m\u001b[39m\"\"\"Creates a constant on the current device.\"\"\"\u001b[39;00m\n\u001b[0;32m--> 305\u001b[0m   t \u001b[39m=\u001b[39m convert_to_eager_tensor(value, ctx, dtype)\n\u001b[1;32m    306\u001b[0m   \u001b[39mif\u001b[39;00m shape \u001b[39mis\u001b[39;00m \u001b[39mNone\u001b[39;00m:\n\u001b[1;32m    307\u001b[0m     \u001b[39mreturn\u001b[39;00m t\n",
            "File \u001b[0;32m~/anaconda3/envs/tf/lib/python3.11/site-packages/tensorflow/python/framework/constant_op.py:103\u001b[0m, in \u001b[0;36mconvert_to_eager_tensor\u001b[0;34m(value, ctx, dtype)\u001b[0m\n\u001b[1;32m    101\u001b[0m     dtype \u001b[39m=\u001b[39m dtypes\u001b[39m.\u001b[39mas_dtype(dtype)\u001b[39m.\u001b[39mas_datatype_enum\n\u001b[1;32m    102\u001b[0m ctx\u001b[39m.\u001b[39mensure_initialized()\n\u001b[0;32m--> 103\u001b[0m \u001b[39mreturn\u001b[39;00m ops\u001b[39m.\u001b[39;49mEagerTensor(value, ctx\u001b[39m.\u001b[39;49mdevice_name, dtype)\n",
            "\u001b[0;31mKeyboardInterrupt\u001b[0m: "
          ]
        }
      ],
      "source": [
        "count=0\n",
        "for permutation in range(permutations):\n",
        "    losses=[]\n",
        "    val_losses=[]\n",
        "    for iteration in range(num_iterations):\n",
        "\n",
        "\n",
        "        model=loaded_models[count]\n",
        "\n",
        "\n",
        "\n",
        "        y_predict_train = model.predict(X1_train1)\n",
        "        y_predict_val = model.predict(X1_validation)\n",
        "        y_predict_test = model.predict(X_test)\n",
        "\n",
        "\n",
        "\n",
        "\n",
        "        rmse_matrix[0,iteration,permutation]=np.sqrt(mean_squared_error(y1_train1, y_predict_train))\n",
        "        rmse_matrix[1,iteration,permutation]=np.sqrt(mean_squared_error(y1_validation, y_predict_val))\n",
        "        rmse_matrix[2,iteration,permutation]=np.sqrt(mean_squared_error(y_test, y_predict_test))\n",
        "        count=count+1\n",
        "'''\n",
        "loaded_models -> index from 0 to permutations*num_iterations-1 \n",
        "where permutations*permutation+tieration = location\n",
        " '''"
      ]
    },
    {
      "cell_type": "code",
      "execution_count": 33,
      "metadata": {},
      "outputs": [
        {
          "ename": "ValueError",
          "evalue": "Number of rows must be a positive integer, not 0",
          "output_type": "error",
          "traceback": [
            "\u001b[0;31m---------------------------------------------------------------------------\u001b[0m",
            "\u001b[0;31mValueError\u001b[0m                                Traceback (most recent call last)",
            "\u001b[1;32m/home/miko/anaconda3/envs/tf/git/PMLDS/proj/NN_tensorflow_temp.ipynb Cell 19\u001b[0m line \u001b[0;36m1\n\u001b[0;32m----> <a href='vscode-notebook-cell:/home/miko/anaconda3/envs/tf/git/PMLDS/proj/NN_tensorflow_temp.ipynb#X24sZmlsZQ%3D%3D?line=0'>1</a>\u001b[0m fig, axes \u001b[39m=\u001b[39m plt\u001b[39m.\u001b[39;49msubplots(\u001b[39mlen\u001b[39;49m(losses_per_permutation), \u001b[39m1\u001b[39;49m, figsize\u001b[39m=\u001b[39;49m(\u001b[39m8\u001b[39;49m, \u001b[39m6\u001b[39;49m \u001b[39m*\u001b[39;49m \u001b[39mlen\u001b[39;49m(losses_per_permutation)))\n\u001b[1;32m      <a href='vscode-notebook-cell:/home/miko/anaconda3/envs/tf/git/PMLDS/proj/NN_tensorflow_temp.ipynb#X24sZmlsZQ%3D%3D?line=2'>3</a>\u001b[0m \u001b[39m# Plotting all iterations for each permutation as subplots\u001b[39;00m\n\u001b[1;32m      <a href='vscode-notebook-cell:/home/miko/anaconda3/envs/tf/git/PMLDS/proj/NN_tensorflow_temp.ipynb#X24sZmlsZQ%3D%3D?line=3'>4</a>\u001b[0m \u001b[39mfor\u001b[39;00m i, permutation_losses \u001b[39min\u001b[39;00m \u001b[39menumerate\u001b[39m(losses_per_permutation):\n",
            "File \u001b[0;32m~/anaconda3/envs/tf/lib/python3.11/site-packages/matplotlib/pyplot.py:1599\u001b[0m, in \u001b[0;36msubplots\u001b[0;34m(nrows, ncols, sharex, sharey, squeeze, width_ratios, height_ratios, subplot_kw, gridspec_kw, **fig_kw)\u001b[0m\n\u001b[1;32m   1455\u001b[0m \u001b[39m\u001b[39m\u001b[39m\"\"\"\u001b[39;00m\n\u001b[1;32m   1456\u001b[0m \u001b[39mCreate a figure and a set of subplots.\u001b[39;00m\n\u001b[1;32m   1457\u001b[0m \n\u001b[0;32m   (...)\u001b[0m\n\u001b[1;32m   1596\u001b[0m \n\u001b[1;32m   1597\u001b[0m \u001b[39m\"\"\"\u001b[39;00m\n\u001b[1;32m   1598\u001b[0m fig \u001b[39m=\u001b[39m figure(\u001b[39m*\u001b[39m\u001b[39m*\u001b[39mfig_kw)\n\u001b[0;32m-> 1599\u001b[0m axs \u001b[39m=\u001b[39m fig\u001b[39m.\u001b[39;49msubplots(nrows\u001b[39m=\u001b[39;49mnrows, ncols\u001b[39m=\u001b[39;49mncols, sharex\u001b[39m=\u001b[39;49msharex, sharey\u001b[39m=\u001b[39;49msharey,\n\u001b[1;32m   1600\u001b[0m                    squeeze\u001b[39m=\u001b[39;49msqueeze, subplot_kw\u001b[39m=\u001b[39;49msubplot_kw,\n\u001b[1;32m   1601\u001b[0m                    gridspec_kw\u001b[39m=\u001b[39;49mgridspec_kw, height_ratios\u001b[39m=\u001b[39;49mheight_ratios,\n\u001b[1;32m   1602\u001b[0m                    width_ratios\u001b[39m=\u001b[39;49mwidth_ratios)\n\u001b[1;32m   1603\u001b[0m \u001b[39mreturn\u001b[39;00m fig, axs\n",
            "File \u001b[0;32m~/anaconda3/envs/tf/lib/python3.11/site-packages/matplotlib/figure.py:930\u001b[0m, in \u001b[0;36mFigureBase.subplots\u001b[0;34m(self, nrows, ncols, sharex, sharey, squeeze, width_ratios, height_ratios, subplot_kw, gridspec_kw)\u001b[0m\n\u001b[1;32m    926\u001b[0m         \u001b[39mraise\u001b[39;00m \u001b[39mValueError\u001b[39;00m(\u001b[39m\"\u001b[39m\u001b[39m'\u001b[39m\u001b[39mwidth_ratios\u001b[39m\u001b[39m'\u001b[39m\u001b[39m must not be defined both as \u001b[39m\u001b[39m\"\u001b[39m\n\u001b[1;32m    927\u001b[0m                          \u001b[39m\"\u001b[39m\u001b[39mparameter and as key in \u001b[39m\u001b[39m'\u001b[39m\u001b[39mgridspec_kw\u001b[39m\u001b[39m'\u001b[39m\u001b[39m\"\u001b[39m)\n\u001b[1;32m    928\u001b[0m     gridspec_kw[\u001b[39m'\u001b[39m\u001b[39mwidth_ratios\u001b[39m\u001b[39m'\u001b[39m] \u001b[39m=\u001b[39m width_ratios\n\u001b[0;32m--> 930\u001b[0m gs \u001b[39m=\u001b[39m \u001b[39mself\u001b[39;49m\u001b[39m.\u001b[39;49madd_gridspec(nrows, ncols, figure\u001b[39m=\u001b[39;49m\u001b[39mself\u001b[39;49m, \u001b[39m*\u001b[39;49m\u001b[39m*\u001b[39;49mgridspec_kw)\n\u001b[1;32m    931\u001b[0m axs \u001b[39m=\u001b[39m gs\u001b[39m.\u001b[39msubplots(sharex\u001b[39m=\u001b[39msharex, sharey\u001b[39m=\u001b[39msharey, squeeze\u001b[39m=\u001b[39msqueeze,\n\u001b[1;32m    932\u001b[0m                   subplot_kw\u001b[39m=\u001b[39msubplot_kw)\n\u001b[1;32m    933\u001b[0m \u001b[39mreturn\u001b[39;00m axs\n",
            "File \u001b[0;32m~/anaconda3/envs/tf/lib/python3.11/site-packages/matplotlib/figure.py:1542\u001b[0m, in \u001b[0;36mFigureBase.add_gridspec\u001b[0;34m(self, nrows, ncols, **kwargs)\u001b[0m\n\u001b[1;32m   1503\u001b[0m \u001b[39m\u001b[39m\u001b[39m\"\"\"\u001b[39;00m\n\u001b[1;32m   1504\u001b[0m \u001b[39mReturn a `.GridSpec` that has this figure as a parent.  This allows\u001b[39;00m\n\u001b[1;32m   1505\u001b[0m \u001b[39mcomplex layout of Axes in the figure.\u001b[39;00m\n\u001b[0;32m   (...)\u001b[0m\n\u001b[1;32m   1538\u001b[0m \n\u001b[1;32m   1539\u001b[0m \u001b[39m\"\"\"\u001b[39;00m\n\u001b[1;32m   1541\u001b[0m _ \u001b[39m=\u001b[39m kwargs\u001b[39m.\u001b[39mpop(\u001b[39m'\u001b[39m\u001b[39mfigure\u001b[39m\u001b[39m'\u001b[39m, \u001b[39mNone\u001b[39;00m)  \u001b[39m# pop in case user has added this...\u001b[39;00m\n\u001b[0;32m-> 1542\u001b[0m gs \u001b[39m=\u001b[39m GridSpec(nrows\u001b[39m=\u001b[39;49mnrows, ncols\u001b[39m=\u001b[39;49mncols, figure\u001b[39m=\u001b[39;49m\u001b[39mself\u001b[39;49m, \u001b[39m*\u001b[39;49m\u001b[39m*\u001b[39;49mkwargs)\n\u001b[1;32m   1543\u001b[0m \u001b[39mreturn\u001b[39;00m gs\n",
            "File \u001b[0;32m~/anaconda3/envs/tf/lib/python3.11/site-packages/matplotlib/gridspec.py:378\u001b[0m, in \u001b[0;36mGridSpec.__init__\u001b[0;34m(self, nrows, ncols, figure, left, bottom, right, top, wspace, hspace, width_ratios, height_ratios)\u001b[0m\n\u001b[1;32m    375\u001b[0m \u001b[39mself\u001b[39m\u001b[39m.\u001b[39mhspace \u001b[39m=\u001b[39m hspace\n\u001b[1;32m    376\u001b[0m \u001b[39mself\u001b[39m\u001b[39m.\u001b[39mfigure \u001b[39m=\u001b[39m figure\n\u001b[0;32m--> 378\u001b[0m \u001b[39msuper\u001b[39;49m()\u001b[39m.\u001b[39;49m\u001b[39m__init__\u001b[39;49m(nrows, ncols,\n\u001b[1;32m    379\u001b[0m                  width_ratios\u001b[39m=\u001b[39;49mwidth_ratios,\n\u001b[1;32m    380\u001b[0m                  height_ratios\u001b[39m=\u001b[39;49mheight_ratios)\n",
            "File \u001b[0;32m~/anaconda3/envs/tf/lib/python3.11/site-packages/matplotlib/gridspec.py:48\u001b[0m, in \u001b[0;36mGridSpecBase.__init__\u001b[0;34m(self, nrows, ncols, height_ratios, width_ratios)\u001b[0m\n\u001b[1;32m     33\u001b[0m \u001b[39m\u001b[39m\u001b[39m\"\"\"\u001b[39;00m\n\u001b[1;32m     34\u001b[0m \u001b[39mParameters\u001b[39;00m\n\u001b[1;32m     35\u001b[0m \u001b[39m----------\u001b[39;00m\n\u001b[0;32m   (...)\u001b[0m\n\u001b[1;32m     45\u001b[0m \u001b[39m    If not given, all rows will have the same height.\u001b[39;00m\n\u001b[1;32m     46\u001b[0m \u001b[39m\"\"\"\u001b[39;00m\n\u001b[1;32m     47\u001b[0m \u001b[39mif\u001b[39;00m \u001b[39mnot\u001b[39;00m \u001b[39misinstance\u001b[39m(nrows, Integral) \u001b[39mor\u001b[39;00m nrows \u001b[39m<\u001b[39m\u001b[39m=\u001b[39m \u001b[39m0\u001b[39m:\n\u001b[0;32m---> 48\u001b[0m     \u001b[39mraise\u001b[39;00m \u001b[39mValueError\u001b[39;00m(\n\u001b[1;32m     49\u001b[0m         \u001b[39mf\u001b[39m\u001b[39m\"\u001b[39m\u001b[39mNumber of rows must be a positive integer, not \u001b[39m\u001b[39m{\u001b[39;00mnrows\u001b[39m!r}\u001b[39;00m\u001b[39m\"\u001b[39m)\n\u001b[1;32m     50\u001b[0m \u001b[39mif\u001b[39;00m \u001b[39mnot\u001b[39;00m \u001b[39misinstance\u001b[39m(ncols, Integral) \u001b[39mor\u001b[39;00m ncols \u001b[39m<\u001b[39m\u001b[39m=\u001b[39m \u001b[39m0\u001b[39m:\n\u001b[1;32m     51\u001b[0m     \u001b[39mraise\u001b[39;00m \u001b[39mValueError\u001b[39;00m(\n\u001b[1;32m     52\u001b[0m         \u001b[39mf\u001b[39m\u001b[39m\"\u001b[39m\u001b[39mNumber of columns must be a positive integer, not \u001b[39m\u001b[39m{\u001b[39;00mncols\u001b[39m!r}\u001b[39;00m\u001b[39m\"\u001b[39m)\n",
            "\u001b[0;31mValueError\u001b[0m: Number of rows must be a positive integer, not 0"
          ]
        },
        {
          "data": {
            "text/plain": [
              "<Figure size 800x0 with 0 Axes>"
            ]
          },
          "metadata": {},
          "output_type": "display_data"
        }
      ],
      "source": [
        "fig, axes = plt.subplots(len(losses_per_permutation), 1, figsize=(8, 6 * len(losses_per_permutation)))\n",
        "\n",
        "# Plotting all iterations for each permutation as subplots\n",
        "for i, permutation_losses in enumerate(losses_per_permutation):\n",
        "    count = 0\n",
        "    for loss in permutation_losses:\n",
        "        axes[i].plot(np.arange(len(loss)), loss, 'r', label=f'Iteration {count}')\n",
        "        axes[i].plot(np.arange(len(val_losses_per_permutation[i][count])), val_losses_per_permutation[i][count], 'b', label=f'Iteration {count}')\n",
        "        count += 1\n",
        "    \n",
        "    axes[i].set_xlabel('Loss Index')\n",
        "    axes[i].set_ylabel('Loss Value')\n",
        "    axes[i].set_title(f'Permutation {i+1} - All Iterations')\n",
        "    axes[i].legend()\n",
        "\n",
        "plt.tight_layout()  # Adjust subplot parameters to fit into the figure\n",
        "plt.show()\n"
      ]
    },
    {
      "cell_type": "code",
      "execution_count": 25,
      "metadata": {
        "colab": {
          "base_uri": "https://localhost:8080/",
          "height": 609
        },
        "id": "G5bYtDzQcWo6",
        "outputId": "c27ae345-1cc7-4950-ea0a-348ac00c7006"
      },
      "outputs": [
        {
          "data": {
            "image/png": "[encoded data removed]",
            "text/plain": [
              "<Figure size 1500x500 with 3 Axes>"
            ]
          },
          "metadata": {},
          "output_type": "display_data"
        }
      ],
      "source": [
        "# Create subplots for each set (training, testing, validation)\n",
        "fig, axs = plt.subplots(1, 3, figsize=(15, 5), sharey=True)\n",
        "\n",
        "# Plot boxplots for each set (training, testing, validation)\n",
        "for i, set_name in enumerate(['Training', 'Testing', 'Validation']):\n",
        "    # Data for the current set\n",
        "    data = rmse_matrix[i]\n",
        "    \n",
        "    # Plot boxplot for each permutation\n",
        "    axs[i].boxplot(data.T)\n",
        "    axs[i].set_title(f'{set_name} Set')\n",
        "    axs[i].set_xlabel('Permutation')\n",
        "    axs[i].set_ylabel('RMSE Value')\n",
        "\n",
        "plt.tight_layout()\n",
        "plt.show()"
      ]
    },
    {
      "cell_type": "code",
      "execution_count": null,
      "metadata": {},
      "outputs": [],
      "source": [
        "best_permutation = []\n",
        "permutation = 2\n",
        "\n",
        "skip = permutation*num_iterations\n",
        "\n",
        "for i in range(num_iterations):\n",
        "  best_permutation.append(loaded_models[i+skip])"
      ]
    },
    {
      "cell_type": "code",
      "execution_count": null,
      "metadata": {},
      "outputs": [],
      "source": [
        "for i in range(num_iterations):\n",
        "  model = best_permutation[i]\n",
        "  y_predict_test = model.predict(X_test)\n",
        "  print(np.sqrt(mean_squared_error(y_test, y_predict_test)))\n"
      ]
    }
  ],
  "metadata": {
    "colab": {
      "provenance": []
    },
    "kernelspec": {
      "display_name": "Python 3",
      "name": "python3"
    },
    "language_info": {
      "codemirror_mode": {
        "name": "ipython",
        "version": 3
      },
      "file_extension": ".py",
      "mimetype": "text/x-python",
      "name": "python",
      "nbconvert_exporter": "python",
      "pygments_lexer": "ipython3",
      "version": "3.11.5"
    }
  },
  "nbformat": 4,
  "nbformat_minor": 0
}
