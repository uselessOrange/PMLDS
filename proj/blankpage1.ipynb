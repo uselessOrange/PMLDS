{
 "cells": [
  {
   "cell_type": "code",
   "execution_count": 2,
   "metadata": {},
   "outputs": [],
   "source": [
    "from sklearn.model_selection import train_test_split\n",
    "\n",
    "from GetData import getData\n",
    "\n",
    "from new_class2 import Model_Across_Iterations"
   ]
  },
  {
   "cell_type": "code",
   "execution_count": 7,
   "metadata": {},
   "outputs": [
    {
     "name": "stdout",
     "output_type": "stream",
     "text": [
      "Epoch 1/50\n",
      "645/645 [==============================] - 2s 2ms/step - loss: 10885661.0000 - accuracy: 0.0000e+00 - val_loss: 10918314.0000 - val_accuracy: 0.0000e+00\n",
      "Epoch 2/50\n",
      "645/645 [==============================] - 1s 2ms/step - loss: 10885666.0000 - accuracy: 0.0000e+00 - val_loss: 10918314.0000 - val_accuracy: 0.0000e+00\n",
      "Epoch 3/50\n",
      "645/645 [==============================] - 2s 3ms/step - loss: 10885651.0000 - accuracy: 0.0000e+00 - val_loss: 10918314.0000 - val_accuracy: 0.0000e+00\n",
      "Epoch 4/50\n",
      "645/645 [==============================] - 1s 2ms/step - loss: 10885651.0000 - accuracy: 0.0000e+00 - val_loss: 10918314.0000 - val_accuracy: 0.0000e+00\n",
      "Epoch 5/50\n",
      "645/645 [==============================] - 1s 2ms/step - loss: 10885660.0000 - accuracy: 0.0000e+00 - val_loss: 10918314.0000 - val_accuracy: 0.0000e+00\n",
      "Epoch 6/50\n",
      "645/645 [==============================] - 1s 2ms/step - loss: 10885655.0000 - accuracy: 0.0000e+00 - val_loss: 10918314.0000 - val_accuracy: 0.0000e+00\n",
      "645/645 [==============================] - 1s 860us/step\n",
      "277/277 [==============================] - 0s 1ms/step\n",
      "231/231 [==============================] - 0s 986us/step\n"
     ]
    },
    {
     "name": "stderr",
     "output_type": "stream",
     "text": [
      "WARNING:absl:Found untraced functions such as _update_step_xla while saving (showing 1 of 1). These functions will not be directly callable after loading.\n"
     ]
    },
    {
     "name": "stdout",
     "output_type": "stream",
     "text": [
      "INFO:tensorflow:Assets written to: name/assets\n"
     ]
    },
    {
     "name": "stderr",
     "output_type": "stream",
     "text": [
      "INFO:tensorflow:Assets written to: name/assets\n"
     ]
    },
    {
     "name": "stdout",
     "output_type": "stream",
     "text": [
      "Epoch 1/50\n",
      "645/645 [==============================] - 2s 3ms/step - loss: -2487713.0000 - accuracy: 0.0000e+00 - val_loss: -10742021.0000 - val_accuracy: 0.0000e+00\n",
      "Epoch 2/50\n",
      "645/645 [==============================] - 1s 2ms/step - loss: -10756468.0000 - accuracy: 0.0000e+00 - val_loss: -10791262.0000 - val_accuracy: 0.0000e+00\n",
      "Epoch 3/50\n",
      "645/645 [==============================] - 2s 3ms/step - loss: -10760970.0000 - accuracy: 0.0000e+00 - val_loss: -10793606.0000 - val_accuracy: 0.0000e+00\n",
      "Epoch 4/50\n",
      "645/645 [==============================] - 2s 2ms/step - loss: -10761374.0000 - accuracy: 0.0000e+00 - val_loss: -10793927.0000 - val_accuracy: 0.0000e+00\n",
      "Epoch 5/50\n",
      "645/645 [==============================] - 2s 3ms/step - loss: -10761640.0000 - accuracy: 0.0000e+00 - val_loss: -10793927.0000 - val_accuracy: 0.0000e+00\n",
      "Epoch 6/50\n",
      "645/645 [==============================] - 2s 3ms/step - loss: -10761643.0000 - accuracy: 0.0000e+00 - val_loss: -10793927.0000 - val_accuracy: 0.0000e+00\n",
      "Epoch 7/50\n",
      "645/645 [==============================] - 1s 2ms/step - loss: -10761641.0000 - accuracy: 0.0000e+00 - val_loss: -10793927.0000 - val_accuracy: 0.0000e+00\n",
      "Epoch 8/50\n",
      "645/645 [==============================] - 1s 2ms/step - loss: -10761652.0000 - accuracy: 0.0000e+00 - val_loss: -10793927.0000 - val_accuracy: 0.0000e+00\n",
      "Epoch 9/50\n",
      "645/645 [==============================] - 2s 3ms/step - loss: -10761641.0000 - accuracy: 0.0000e+00 - val_loss: -10793927.0000 - val_accuracy: 0.0000e+00\n",
      "645/645 [==============================] - 1s 1ms/step\n",
      "277/277 [==============================] - 0s 1ms/step\n",
      "231/231 [==============================] - 0s 2ms/step\n"
     ]
    },
    {
     "name": "stderr",
     "output_type": "stream",
     "text": [
      "WARNING:absl:Found untraced functions such as _update_step_xla while saving (showing 1 of 1). These functions will not be directly callable after loading.\n"
     ]
    },
    {
     "name": "stdout",
     "output_type": "stream",
     "text": [
      "INFO:tensorflow:Assets written to: name/assets\n"
     ]
    },
    {
     "name": "stderr",
     "output_type": "stream",
     "text": [
      "INFO:tensorflow:Assets written to: name/assets\n"
     ]
    }
   ],
   "source": [
    "dataFrame = getData()\n",
    "\n",
    "X2=dataFrame['workableData']['FeatureDividedData']['X2']\n",
    "y=dataFrame['workableData']['y']\n",
    "\n",
    "X_train, X_test, y_train, y_test = train_test_split(X2, y, test_size = 0.2, random_state=42)\n",
    "X1_train1, X1_validation, y1_train1, y1_validation = train_test_split(X_train, y_train, test_size = 0.3, random_state=42)\n",
    "\n",
    "config = [2,2,1]\n",
    "\n",
    "num_iterations = 2\n",
    "\n",
    "modelList = Model_Across_Iterations(num_iterations,config,X1_train1, y1_train1,X1_validation, y1_validation,X_test,y_test)\n",
    "\n"
   ]
  },
  {
   "cell_type": "code",
   "execution_count": 8,
   "metadata": {},
   "outputs": [
    {
     "data": {
      "text/plain": [
       "NoneType"
      ]
     },
     "execution_count": 8,
     "metadata": {},
     "output_type": "execute_result"
    }
   ],
   "source": [
    "type(modelList)"
   ]
  }
 ],
 "metadata": {
  "kernelspec": {
   "display_name": "PMLDS",
   "language": "python",
   "name": "python3"
  },
  "language_info": {
   "codemirror_mode": {
    "name": "ipython",
    "version": 3
   },
   "file_extension": ".py",
   "mimetype": "text/x-python",
   "name": "python",
   "nbconvert_exporter": "python",
   "pygments_lexer": "ipython3",
   "version": "3.11.5"
  }
 },
 "nbformat": 4,
 "nbformat_minor": 2
}
