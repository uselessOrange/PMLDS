{
  "nbformat": 4,
  "nbformat_minor": 0,
  "metadata": {
    "colab": {
      "provenance": []
    },
    "kernelspec": {
      "name": "python3",
      "display_name": "Python 3"
    },
    "language_info": {
      "name": "python"
    }
  },
  "cells": [
    {
      "cell_type": "code",
      "execution_count": null,
      "metadata": {
        "id": "2HdHnhMpfL4O"
      },
      "outputs": [],
      "source": [
        "import pandas as pd\n",
        "import sklearn as sk\n",
        "import numpy as np\n",
        "from sklearn.model_selection import train_test_split\n",
        "from sklearn.preprocessing import MinMaxScaler\n",
        "from sklearn.metrics import mean_squared_error\n",
        "\n",
        "import tensorflow as tf\n",
        "from tensorflow.keras.layers import Dense\n",
        "\n",
        "import matplotlib.pyplot as plt\n"
      ]
    },
    {
      "cell_type": "code",
      "source": [
        "df_august = pd.read_csv('https://raw.githubusercontent.com/WitoldSurdej/PFML/master/apartments_pl_2023_08.csv')\n",
        "df_september = pd.read_csv('https://raw.githubusercontent.com/WitoldSurdej/PFML/master/apartments_pl_2023_09.csv')\n",
        "df_october = pd.read_csv('https://raw.githubusercontent.com/WitoldSurdej/PFML/master/apartments_pl_2023_10.csv')"
      ],
      "metadata": {
        "id": "pwD6bvgofRNo"
      },
      "execution_count": null,
      "outputs": []
    },
    {
      "cell_type": "code",
      "source": [
        "df_august['Month'] = 0\n",
        "df_september['Month'] = 1\n",
        "df_october['Month'] = 2"
      ],
      "metadata": {
        "id": "lA-prbO6fWZ3"
      },
      "execution_count": null,
      "outputs": []
    },
    {
      "cell_type": "code",
      "source": [
        "frames = [df_august, df_september, df_october]\n",
        "df = pd.concat(frames)"
      ],
      "metadata": {
        "id": "Lgq_4GtmfXxL"
      },
      "execution_count": null,
      "outputs": []
    },
    {
      "cell_type": "code",
      "source": [
        "# Shape of dataframe\n",
        "df.shape"
      ],
      "metadata": {
        "colab": {
          "base_uri": "https://localhost:8080/"
        },
        "id": "nsm5navJfbcX",
        "outputId": "a2cc4c26-9ea4-4b5a-beda-d89dd59a228e"
      },
      "execution_count": null,
      "outputs": [
        {
          "output_type": "execute_result",
          "data": {
            "text/plain": [
              "(52592, 29)"
            ]
          },
          "metadata": {},
          "execution_count": 51
        }
      ]
    },
    {
      "cell_type": "markdown",
      "source": [
        "saving 1/3 of original data for future"
      ],
      "metadata": {
        "id": "lZgVZ7DWff8O"
      }
    },
    {
      "cell_type": "code",
      "source": [
        "df_live, df_backup = train_test_split(df,test_size=0.3, random_state=42)\n",
        "print(f'df_live.shape = {df_live.shape}')\n",
        "print(f'df_backup.shape = {df_backup.shape}')"
      ],
      "metadata": {
        "colab": {
          "base_uri": "https://localhost:8080/"
        },
        "id": "tey3axOZffIS",
        "outputId": "b4f6244c-045e-45a5-8233-3ac56857fb6b"
      },
      "execution_count": null,
      "outputs": [
        {
          "output_type": "stream",
          "name": "stdout",
          "text": [
            "df_live.shape = (36814, 29)\n",
            "df_backup.shape = (15778, 29)\n"
          ]
        }
      ]
    },
    {
      "cell_type": "markdown",
      "source": [
        "Hierarchy of features:  1) squareMeters  2) Longitude  3) poiCount  4) rooms    5) centreDistance  6)clinicDistance  7) kindergardenDistance\n"
      ],
      "metadata": {
        "id": "nl9F4hBnitpP"
      }
    },
    {
      "cell_type": "markdown",
      "source": [
        "Here is where we could do more data processing on df_live like selecting only numerical columns. If we wanted to look for missing values or repetitions then it's better to do it on Xn"
      ],
      "metadata": {
        "id": "YLXopuXpln5q"
      }
    },
    {
      "cell_type": "code",
      "source": [
        "num_cols = df_live.select_dtypes([np.number]).columns\n",
        "\n",
        "df_nums = df_live[num_cols].reset_index(drop=True)\n",
        "print(f'df_nums.shape = {df_nums.shape}')"
      ],
      "metadata": {
        "colab": {
          "base_uri": "https://localhost:8080/"
        },
        "id": "fqB0Hqxkqj8a",
        "outputId": "db6a2098-8bf2-40e3-e8de-ccccd133d487"
      },
      "execution_count": null,
      "outputs": [
        {
          "output_type": "stream",
          "name": "stdout",
          "text": [
            "df_nums.shape = (36814, 18)\n"
          ]
        }
      ]
    },
    {
      "cell_type": "code",
      "source": [
        "X = df_nums.loc[:,df_nums.columns != 'price']\n",
        "y = df_nums['price'].values\n",
        "\n",
        "print(f'X.shape = {X.shape}')\n",
        "print(f'y.shape = {y.shape}')"
      ],
      "metadata": {
        "colab": {
          "base_uri": "https://localhost:8080/"
        },
        "id": "YzE40QeIh6c_",
        "outputId": "e6d5ba0d-624d-4839-bfb0-0092d2104597"
      },
      "execution_count": null,
      "outputs": [
        {
          "output_type": "stream",
          "name": "stdout",
          "text": [
            "X.shape = (36814, 17)\n",
            "y.shape = (36814,)\n"
          ]
        }
      ]
    },
    {
      "cell_type": "code",
      "source": [
        "scaler = MinMaxScaler()\n",
        "X_normalized = scaler.fit_transform(X)\n",
        "\n",
        "X_normalized_df = pd.DataFrame(X_normalized, columns=X.columns)\n",
        "\n",
        "print(type(X_normalized))\n",
        "print(type(X_normalized_df))\n",
        "print(type(X))"
      ],
      "metadata": {
        "colab": {
          "base_uri": "https://localhost:8080/"
        },
        "id": "tNNZPjJupMQ0",
        "outputId": "e3368903-97a5-46eb-a292-3deadb8653e1"
      },
      "execution_count": null,
      "outputs": [
        {
          "output_type": "stream",
          "name": "stdout",
          "text": [
            "<class 'numpy.ndarray'>\n",
            "<class 'pandas.core.frame.DataFrame'>\n",
            "<class 'pandas.core.frame.DataFrame'>\n"
          ]
        }
      ]
    },
    {
      "cell_type": "code",
      "source": [
        "selected_columns_2 = ['squareMeters', 'longitude']\n",
        "selected_columns_3 = ['squareMeters', 'longitude', 'poiCount']\n",
        "selected_columns_5 = ['squareMeters', 'longitude', 'poiCount', 'rooms', 'centreDistance']\n",
        "selected_columns_7 = ['squareMeters', 'longitude', 'poiCount', 'rooms', 'centreDistance', 'clinicDistance', 'kindergartenDistance']\n",
        "\n",
        "X2=X_normalized_df[selected_columns_2]\n",
        "X3=X_normalized_df[selected_columns_3]\n",
        "X5=X_normalized_df[selected_columns_5]\n",
        "X7=X_normalized_df[selected_columns_7]\n",
        "\n",
        "print(f'X2.shape = {X2.shape}')\n",
        "print(f'X3.shape = {X3.shape}')\n",
        "print(f'X5.shape = {X5.shape}')\n",
        "print(f'X7.shape = {X7.shape}')"
      ],
      "metadata": {
        "colab": {
          "base_uri": "https://localhost:8080/"
        },
        "id": "8stt6PG7katt",
        "outputId": "bb57788b-b8a2-4b37-9e1c-35bdd56cba65"
      },
      "execution_count": null,
      "outputs": [
        {
          "output_type": "stream",
          "name": "stdout",
          "text": [
            "X2.shape = (36814, 2)\n",
            "X3.shape = (36814, 3)\n",
            "X5.shape = (36814, 5)\n",
            "X7.shape = (36814, 7)\n"
          ]
        }
      ]
    },
    {
      "cell_type": "code",
      "source": [
        "X_train, X_test, y_train, y_test = train_test_split(X2, y, test_size = 0.2, random_state=42)\n",
        "X1_train1, X1_validation, y1_train1, y1_validation = train_test_split(X_train, y_train, test_size = 0.3, random_state=42)\n",
        "\n",
        "print(f'X1_train1.shape = {X1_train1.shape}')\n",
        "print(f'X1_validation.shape = {X1_validation.shape}')\n",
        "print(f'X_test.shape = {X_test.shape}')\n"
      ],
      "metadata": {
        "colab": {
          "base_uri": "https://localhost:8080/"
        },
        "id": "PY4O7KbuZq4e",
        "outputId": "e0c24ba6-e436-433a-d362-23e8131b683c"
      },
      "execution_count": null,
      "outputs": [
        {
          "output_type": "stream",
          "name": "stdout",
          "text": [
            "X1_train1.shape = (20615, 2)\n",
            "X1_validation.shape = (8836, 2)\n",
            "X_test.shape = (7363, 2)\n"
          ]
        }
      ]
    },
    {
      "cell_type": "code",
      "source": [
        "# Define the neural network architecture\n",
        "model = tf.keras.Sequential()\n",
        "\n",
        "permutations = 4\n",
        "\n",
        "model_struct=[]\n",
        "all_histories=[]\n",
        "\n",
        "\n",
        "for permutation in range(permutations):\n",
        "\n",
        "\n",
        "  model.add(Dense(permutation+2, activation='relu', input_shape=(2,)))\n",
        "  model.add(Dense(permutation+2, activation='relu'))\n",
        "  model.add(Dense(1, activation='relu'))\n",
        "\n",
        "  model_struct.append([permutation+2,permutation+2])\n",
        "\n",
        "  # Compile the model\n",
        "  model.compile(optimizer='adam', loss='binary_crossentropy', metrics=['accuracy'])\n",
        "\n",
        "\n",
        "\n",
        "  num_iterations=10\n",
        "\n",
        "  rmse_matrix=np.zeros([3,num_iterations,permutation])\n",
        "\n",
        "\n",
        "  all_histories_per_permutation = []\n",
        "\n",
        "  for iteration in range(num_iterations):\n",
        "\n",
        "    # Define a callback to collect training history\n",
        "    history_callback = tf.keras.callbacks.History()\n",
        "\n",
        "    early_stopping_callback = tf.keras.callbacks.EarlyStopping(\n",
        "      monitor='val_loss',  # Monitor validation loss\n",
        "      patience=5,  # Stop training if no improvement for 5 consecutive epochs\n",
        "      restore_best_weights=True  # Restore model weights to the best observed during training\n",
        "      )\n",
        "\n",
        "\n",
        "\n",
        "    history = model.fit(X1_train1, y1_train1, epochs=50, validation_data=(X1_validation, y1_validation), callbacks=[early_stopping_callback])\n",
        "\n",
        "    all_histories_per_permutation.append(history)\n",
        "\n",
        "\n",
        "\n",
        "\n",
        "    y_predict_train = model.predict(X1_train1)\n",
        "    y_predict_val = model.predict(X1_validation)\n",
        "    y_predict_test = model.predict(X_test)\n",
        "\n",
        "\n",
        "\n",
        "\n",
        "    rmse_matrix[0,iteration]=np.sqrt(mean_squared_error(y1_train1, y_predict_train))\n",
        "    rmse_matrix[1,iteration]=np.sqrt(mean_squared_error(y1_validation, y_predict_val))\n",
        "    rmse_matrix[2,iteration]=np.sqrt(mean_squared_error(y_test, y_predict_test))\n",
        "\n"
      ],
      "metadata": {
        "colab": {
          "base_uri": "https://localhost:8080/"
        },
        "id": "MaJhIthqpHnR",
        "outputId": "e640e58d-d5c8-4053-af58-113427024733"
      },
      "execution_count": null,
      "outputs": [
        {
          "output_type": "stream",
          "name": "stdout",
          "text": [
            "Epoch 1/50\n",
            "645/645 [==============================] - 3s 4ms/step - loss: 10885663.0000 - accuracy: 0.0000e+00 - val_loss: 10918314.0000 - val_accuracy: 0.0000e+00\n",
            "Epoch 2/50\n",
            "645/645 [==============================] - 3s 4ms/step - loss: 10885659.0000 - accuracy: 0.0000e+00 - val_loss: 10918314.0000 - val_accuracy: 0.0000e+00\n",
            "Epoch 3/50\n",
            "645/645 [==============================] - 2s 3ms/step - loss: 10885658.0000 - accuracy: 0.0000e+00 - val_loss: 10918314.0000 - val_accuracy: 0.0000e+00\n",
            "Epoch 4/50\n",
            "645/645 [==============================] - 3s 4ms/step - loss: 10885660.0000 - accuracy: 0.0000e+00 - val_loss: 10918314.0000 - val_accuracy: 0.0000e+00\n",
            "Epoch 5/50\n",
            "645/645 [==============================] - 4s 6ms/step - loss: 10885661.0000 - accuracy: 0.0000e+00 - val_loss: 10918314.0000 - val_accuracy: 0.0000e+00\n",
            "Epoch 6/50\n",
            "645/645 [==============================] - 2s 4ms/step - loss: 10885653.0000 - accuracy: 0.0000e+00 - val_loss: 10918314.0000 - val_accuracy: 0.0000e+00\n",
            "645/645 [==============================] - 1s 2ms/step\n",
            "277/277 [==============================] - 1s 2ms/step\n",
            "231/231 [==============================] - 0s 1ms/step\n",
            "Epoch 1/50\n",
            "645/645 [==============================] - 2s 3ms/step - loss: 10885658.0000 - accuracy: 0.0000e+00 - val_loss: 10918314.0000 - val_accuracy: 0.0000e+00\n",
            "Epoch 2/50\n",
            "645/645 [==============================] - 2s 3ms/step - loss: 10885662.0000 - accuracy: 0.0000e+00 - val_loss: 10918314.0000 - val_accuracy: 0.0000e+00\n",
            "Epoch 3/50\n",
            "645/645 [==============================] - 2s 3ms/step - loss: 10885654.0000 - accuracy: 0.0000e+00 - val_loss: 10918314.0000 - val_accuracy: 0.0000e+00\n",
            "Epoch 4/50\n",
            "645/645 [==============================] - 2s 3ms/step - loss: 10885657.0000 - accuracy: 0.0000e+00 - val_loss: 10918314.0000 - val_accuracy: 0.0000e+00\n",
            "Epoch 5/50\n",
            "645/645 [==============================] - 2s 3ms/step - loss: 10885661.0000 - accuracy: 0.0000e+00 - val_loss: 10918314.0000 - val_accuracy: 0.0000e+00\n",
            "Epoch 6/50\n",
            "645/645 [==============================] - 3s 4ms/step - loss: 10885663.0000 - accuracy: 0.0000e+00 - val_loss: 10918314.0000 - val_accuracy: 0.0000e+00\n",
            "645/645 [==============================] - 1s 2ms/step\n",
            "277/277 [==============================] - 0s 1ms/step\n",
            "231/231 [==============================] - 0s 2ms/step\n",
            "Epoch 1/50\n",
            "645/645 [==============================] - 2s 3ms/step - loss: 10885658.0000 - accuracy: 0.0000e+00 - val_loss: 10918314.0000 - val_accuracy: 0.0000e+00\n",
            "Epoch 2/50\n",
            "645/645 [==============================] - 2s 3ms/step - loss: 10885661.0000 - accuracy: 0.0000e+00 - val_loss: 10918314.0000 - val_accuracy: 0.0000e+00\n",
            "Epoch 3/50\n",
            "645/645 [==============================] - 2s 3ms/step - loss: 10885656.0000 - accuracy: 0.0000e+00 - val_loss: 10918314.0000 - val_accuracy: 0.0000e+00\n",
            "Epoch 4/50\n",
            "645/645 [==============================] - 2s 3ms/step - loss: 10885666.0000 - accuracy: 0.0000e+00 - val_loss: 10918314.0000 - val_accuracy: 0.0000e+00\n",
            "Epoch 5/50\n",
            "645/645 [==============================] - 3s 5ms/step - loss: 10885655.0000 - accuracy: 0.0000e+00 - val_loss: 10918314.0000 - val_accuracy: 0.0000e+00\n",
            "Epoch 6/50\n",
            "645/645 [==============================] - 2s 4ms/step - loss: 10885656.0000 - accuracy: 0.0000e+00 - val_loss: 10918314.0000 - val_accuracy: 0.0000e+00\n",
            "645/645 [==============================] - 1s 2ms/step\n",
            "277/277 [==============================] - 0s 2ms/step\n",
            "231/231 [==============================] - 0s 2ms/step\n",
            "Epoch 1/50\n",
            "645/645 [==============================] - 2s 3ms/step - loss: 10885662.0000 - accuracy: 0.0000e+00 - val_loss: 10918314.0000 - val_accuracy: 0.0000e+00\n",
            "Epoch 2/50\n",
            "645/645 [==============================] - 2s 3ms/step - loss: 10885660.0000 - accuracy: 0.0000e+00 - val_loss: 10918314.0000 - val_accuracy: 0.0000e+00\n",
            "Epoch 3/50\n",
            "645/645 [==============================] - 2s 3ms/step - loss: 10885657.0000 - accuracy: 0.0000e+00 - val_loss: 10918314.0000 - val_accuracy: 0.0000e+00\n",
            "Epoch 4/50\n",
            "645/645 [==============================] - 3s 5ms/step - loss: 10885654.0000 - accuracy: 0.0000e+00 - val_loss: 10918314.0000 - val_accuracy: 0.0000e+00\n",
            "Epoch 5/50\n",
            "645/645 [==============================] - 2s 4ms/step - loss: 10885659.0000 - accuracy: 0.0000e+00 - val_loss: 10918314.0000 - val_accuracy: 0.0000e+00\n",
            "Epoch 6/50\n",
            "645/645 [==============================] - 2s 3ms/step - loss: 10885662.0000 - accuracy: 0.0000e+00 - val_loss: 10918314.0000 - val_accuracy: 0.0000e+00\n",
            "645/645 [==============================] - 2s 2ms/step\n",
            "277/277 [==============================] - 1s 2ms/step\n",
            "231/231 [==============================] - 0s 1ms/step\n",
            "Epoch 1/50\n",
            "645/645 [==============================] - 2s 3ms/step - loss: 10885664.0000 - accuracy: 0.0000e+00 - val_loss: 10918314.0000 - val_accuracy: 0.0000e+00\n",
            "Epoch 2/50\n",
            "645/645 [==============================] - 2s 3ms/step - loss: 10885666.0000 - accuracy: 0.0000e+00 - val_loss: 10918314.0000 - val_accuracy: 0.0000e+00\n",
            "Epoch 3/50\n",
            "645/645 [==============================] - 2s 3ms/step - loss: 10885654.0000 - accuracy: 0.0000e+00 - val_loss: 10918314.0000 - val_accuracy: 0.0000e+00\n",
            "Epoch 4/50\n",
            "645/645 [==============================] - 2s 3ms/step - loss: 10885662.0000 - accuracy: 0.0000e+00 - val_loss: 10918314.0000 - val_accuracy: 0.0000e+00\n",
            "Epoch 5/50\n",
            "645/645 [==============================] - 3s 4ms/step - loss: 10885654.0000 - accuracy: 0.0000e+00 - val_loss: 10918314.0000 - val_accuracy: 0.0000e+00\n",
            "Epoch 6/50\n",
            "645/645 [==============================] - 3s 4ms/step - loss: 10885662.0000 - accuracy: 0.0000e+00 - val_loss: 10918314.0000 - val_accuracy: 0.0000e+00\n",
            "645/645 [==============================] - 1s 1ms/step\n",
            "277/277 [==============================] - 0s 1ms/step\n",
            "231/231 [==============================] - 0s 1ms/step\n",
            "Epoch 1/50\n",
            "645/645 [==============================] - 2s 3ms/step - loss: 10885664.0000 - accuracy: 0.0000e+00 - val_loss: 10918314.0000 - val_accuracy: 0.0000e+00\n",
            "Epoch 2/50\n",
            "645/645 [==============================] - 2s 3ms/step - loss: 10885649.0000 - accuracy: 0.0000e+00 - val_loss: 10918314.0000 - val_accuracy: 0.0000e+00\n",
            "Epoch 3/50\n",
            "645/645 [==============================] - 2s 3ms/step - loss: 10885663.0000 - accuracy: 0.0000e+00 - val_loss: 10918314.0000 - val_accuracy: 0.0000e+00\n",
            "Epoch 4/50\n",
            "645/645 [==============================] - 3s 4ms/step - loss: 10885660.0000 - accuracy: 0.0000e+00 - val_loss: 10918314.0000 - val_accuracy: 0.0000e+00\n",
            "Epoch 5/50\n",
            "645/645 [==============================] - 3s 4ms/step - loss: 10885662.0000 - accuracy: 0.0000e+00 - val_loss: 10918314.0000 - val_accuracy: 0.0000e+00\n",
            "Epoch 6/50\n",
            "645/645 [==============================] - 2s 3ms/step - loss: 10885665.0000 - accuracy: 0.0000e+00 - val_loss: 10918314.0000 - val_accuracy: 0.0000e+00\n",
            "645/645 [==============================] - 1s 2ms/step\n",
            "277/277 [==============================] - 0s 2ms/step\n",
            "231/231 [==============================] - 0s 1ms/step\n",
            "Epoch 1/50\n",
            "645/645 [==============================] - 2s 3ms/step - loss: 10885663.0000 - accuracy: 0.0000e+00 - val_loss: 10918314.0000 - val_accuracy: 0.0000e+00\n",
            "Epoch 2/50\n",
            "645/645 [==============================] - 2s 3ms/step - loss: 10885662.0000 - accuracy: 0.0000e+00 - val_loss: 10918314.0000 - val_accuracy: 0.0000e+00\n",
            "Epoch 3/50\n",
            "645/645 [==============================] - 2s 4ms/step - loss: 10885664.0000 - accuracy: 0.0000e+00 - val_loss: 10918314.0000 - val_accuracy: 0.0000e+00\n",
            "Epoch 4/50\n",
            "645/645 [==============================] - 3s 4ms/step - loss: 10885656.0000 - accuracy: 0.0000e+00 - val_loss: 10918314.0000 - val_accuracy: 0.0000e+00\n",
            "Epoch 5/50\n",
            "645/645 [==============================] - 2s 3ms/step - loss: 10885663.0000 - accuracy: 0.0000e+00 - val_loss: 10918314.0000 - val_accuracy: 0.0000e+00\n",
            "Epoch 6/50\n",
            "645/645 [==============================] - 2s 3ms/step - loss: 10885658.0000 - accuracy: 0.0000e+00 - val_loss: 10918314.0000 - val_accuracy: 0.0000e+00\n",
            "645/645 [==============================] - 1s 1ms/step\n",
            "277/277 [==============================] - 0s 1ms/step\n",
            "231/231 [==============================] - 0s 2ms/step\n",
            "Epoch 1/50\n",
            "645/645 [==============================] - 2s 3ms/step - loss: 10885656.0000 - accuracy: 0.0000e+00 - val_loss: 10918314.0000 - val_accuracy: 0.0000e+00\n",
            "Epoch 2/50\n",
            "645/645 [==============================] - 2s 3ms/step - loss: 10885655.0000 - accuracy: 0.0000e+00 - val_loss: 10918314.0000 - val_accuracy: 0.0000e+00\n",
            "Epoch 3/50\n",
            "645/645 [==============================] - 3s 5ms/step - loss: 10885659.0000 - accuracy: 0.0000e+00 - val_loss: 10918314.0000 - val_accuracy: 0.0000e+00\n",
            "Epoch 4/50\n",
            "645/645 [==============================] - 2s 4ms/step - loss: 10885654.0000 - accuracy: 0.0000e+00 - val_loss: 10918314.0000 - val_accuracy: 0.0000e+00\n",
            "Epoch 5/50\n",
            "645/645 [==============================] - 2s 3ms/step - loss: 10885658.0000 - accuracy: 0.0000e+00 - val_loss: 10918314.0000 - val_accuracy: 0.0000e+00\n",
            "Epoch 6/50\n",
            "645/645 [==============================] - 2s 3ms/step - loss: 10885652.0000 - accuracy: 0.0000e+00 - val_loss: 10918314.0000 - val_accuracy: 0.0000e+00\n",
            "645/645 [==============================] - 1s 2ms/step\n",
            "277/277 [==============================] - 0s 1ms/step\n",
            "231/231 [==============================] - 0s 1ms/step\n",
            "Epoch 1/50\n",
            "645/645 [==============================] - 2s 3ms/step - loss: 10885666.0000 - accuracy: 0.0000e+00 - val_loss: 10918314.0000 - val_accuracy: 0.0000e+00\n",
            "Epoch 2/50\n",
            "645/645 [==============================] - 2s 3ms/step - loss: 10885658.0000 - accuracy: 0.0000e+00 - val_loss: 10918314.0000 - val_accuracy: 0.0000e+00\n",
            "Epoch 3/50\n",
            "645/645 [==============================] - 2s 3ms/step - loss: 10885662.0000 - accuracy: 0.0000e+00 - val_loss: 10918314.0000 - val_accuracy: 0.0000e+00\n",
            "Epoch 4/50\n",
            "645/645 [==============================] - 2s 3ms/step - loss: 10885656.0000 - accuracy: 0.0000e+00 - val_loss: 10918314.0000 - val_accuracy: 0.0000e+00\n",
            "Epoch 5/50\n",
            "645/645 [==============================] - 3s 4ms/step - loss: 10885653.0000 - accuracy: 0.0000e+00 - val_loss: 10918314.0000 - val_accuracy: 0.0000e+00\n",
            "Epoch 6/50\n",
            "645/645 [==============================] - 3s 4ms/step - loss: 10885655.0000 - accuracy: 0.0000e+00 - val_loss: 10918314.0000 - val_accuracy: 0.0000e+00\n",
            "645/645 [==============================] - 1s 1ms/step\n",
            "277/277 [==============================] - 0s 1ms/step\n",
            "231/231 [==============================] - 0s 1ms/step\n",
            "Epoch 1/50\n",
            "645/645 [==============================] - 2s 3ms/step - loss: 10885656.0000 - accuracy: 0.0000e+00 - val_loss: 10918314.0000 - val_accuracy: 0.0000e+00\n",
            "Epoch 2/50\n",
            "645/645 [==============================] - 2s 3ms/step - loss: 10885660.0000 - accuracy: 0.0000e+00 - val_loss: 10918314.0000 - val_accuracy: 0.0000e+00\n",
            "Epoch 3/50\n",
            "645/645 [==============================] - 2s 3ms/step - loss: 10885664.0000 - accuracy: 0.0000e+00 - val_loss: 10918314.0000 - val_accuracy: 0.0000e+00\n",
            "Epoch 4/50\n",
            "645/645 [==============================] - 3s 4ms/step - loss: 10885658.0000 - accuracy: 0.0000e+00 - val_loss: 10918314.0000 - val_accuracy: 0.0000e+00\n",
            "Epoch 5/50\n",
            "645/645 [==============================] - 3s 4ms/step - loss: 10885660.0000 - accuracy: 0.0000e+00 - val_loss: 10918314.0000 - val_accuracy: 0.0000e+00\n",
            "Epoch 6/50\n",
            "645/645 [==============================] - 2s 3ms/step - loss: 10885652.0000 - accuracy: 0.0000e+00 - val_loss: 10918314.0000 - val_accuracy: 0.0000e+00\n",
            "645/645 [==============================] - 1s 1ms/step\n",
            "277/277 [==============================] - 0s 1ms/step\n",
            "231/231 [==============================] - 0s 2ms/step\n"
          ]
        }
      ]
    },
    {
      "cell_type": "code",
      "source": [
        "for i, history in enumerate(all_histories):\n",
        "  print(f\"Iteration {i+1} - Training Loss: {history.history['loss']}\")\n",
        "  training_loss_per_epoch = all_histories[i].history['loss']\n",
        "  validation_loss_per_epoch = all_histories[i].history['val_loss']\n",
        "  #loss_train, accuracy= model.evaluate(X1_train1, y1_train1)\n",
        "  #loss_train, accuracy= model.evaluate(X1_train, y1_train)\n",
        "\n",
        "\n",
        "  # Plot the accuracy values\n",
        "  plt.plot(training_loss_per_epoch, 'b', label='Training loss '+str(i+1))\n",
        "  plt.plot(validation_loss_per_epoch, 'r', label='Validation loss '+str(i+1))\n",
        "  plt.xlabel('Epoch')\n",
        "  plt.ylabel('loss')\n",
        "  plt.legend()\n",
        "\n",
        "plt.show()\n",
        "  # Evaluate the model on the test data\n",
        "  #loss_test, accuracy_test.append = model.evaluate(X1_test, y1_test)"
      ],
      "metadata": {
        "colab": {
          "base_uri": "https://localhost:8080/",
          "height": 661
        },
        "id": "cHg0ULlibDHQ",
        "outputId": "47fc284c-294e-4cd2-b0ea-410288dac068"
      },
      "execution_count": null,
      "outputs": [
        {
          "output_type": "stream",
          "name": "stdout",
          "text": [
            "Iteration 1 - Training Loss: [10885663.0, 10885659.0, 10885658.0, 10885660.0, 10885661.0, 10885653.0]\n",
            "Iteration 2 - Training Loss: [10885658.0, 10885662.0, 10885654.0, 10885657.0, 10885661.0, 10885663.0]\n",
            "Iteration 3 - Training Loss: [10885658.0, 10885661.0, 10885656.0, 10885666.0, 10885655.0, 10885656.0]\n",
            "Iteration 4 - Training Loss: [10885662.0, 10885660.0, 10885657.0, 10885654.0, 10885659.0, 10885662.0]\n",
            "Iteration 5 - Training Loss: [10885664.0, 10885666.0, 10885654.0, 10885662.0, 10885654.0, 10885662.0]\n",
            "Iteration 6 - Training Loss: [10885664.0, 10885649.0, 10885663.0, 10885660.0, 10885662.0, 10885665.0]\n",
            "Iteration 7 - Training Loss: [10885663.0, 10885662.0, 10885664.0, 10885656.0, 10885663.0, 10885658.0]\n",
            "Iteration 8 - Training Loss: [10885656.0, 10885655.0, 10885659.0, 10885654.0, 10885658.0, 10885652.0]\n",
            "Iteration 9 - Training Loss: [10885666.0, 10885658.0, 10885662.0, 10885656.0, 10885653.0, 10885655.0]\n",
            "Iteration 10 - Training Loss: [10885656.0, 10885660.0, 10885664.0, 10885658.0, 10885660.0, 10885652.0]\n"
          ]
        },
        {
          "output_type": "display_data",
          "data": {
            "text/plain": [
              "<Figure size 640x480 with 1 Axes>"
            ],
            "image/png": "[encoded data removed]"
          },
          "metadata": {}
        }
      ]
    },
    {
      "cell_type": "code",
      "source": [
        "for i in range(num_iterations):\n",
        "  print(f\"Iteration {i+1} - rmse: {rmse_matrix[:,i]}\")\n",
        "  training_rmse_per_iteration = rmse_matrix[0,i]\n",
        "  validation_rmsr_per_iteration = rmse_matrix[1,i]\n",
        "  test_rmsr_per_iteration = rmse_matrix[2,i]\n",
        "  #loss_train, accuracy= model.evaluate(X1_train1, y1_train1)\n",
        "  #loss_train, accuracy= model.evaluate(X1_train, y1_train)\n",
        "\n",
        "\n",
        "  # Plot the accuracy values\n",
        "  plt.boxplot([rmse_matrix[0,:],rmse_matrix[1,:],rmse_matrix[2,:]])\n",
        "  #plt.boxplot([rmse_matrix[1,:]])\n",
        "  #plt.boxplot([rmse_matrix[2,:]])\n",
        "  #plt.boxplot(rmse_matrix[1,:], 'ro', label='validation_rmsr_per_iteration '+str(i+1))\n",
        "  #plt.boxplot(rmse_matrix[2,:], 'go', label='test_rmsr_per_iteration '+str(i+1))\n",
        "  #plt.xlabel('Epoch')\n",
        "  #plt.ylabel('loss')\n",
        "  #plt.legend()\n",
        "\n",
        "plt.show()\n",
        "  # Evaluate the model on the test data\n",
        "  #loss_test, accuracy_test.append = model.evaluate(X1_test, y1_test)\n"
      ],
      "metadata": {
        "colab": {
          "base_uri": "https://localhost:8080/",
          "height": 609
        },
        "id": "G5bYtDzQcWo6",
        "outputId": "c27ae345-1cc7-4950-ea0a-348ac00c7006"
      },
      "execution_count": null,
      "outputs": [
        {
          "output_type": "stream",
          "name": "stdout",
          "text": [
            "Iteration 1 - rmse: [786916.06199148 788342.01724536 791125.15122819]\n",
            "Iteration 2 - rmse: [786916.06199148 788342.01724536 791125.15122819]\n",
            "Iteration 3 - rmse: [786916.06199148 788342.01724536 791125.15122819]\n",
            "Iteration 4 - rmse: [786916.06199148 788342.01724536 791125.15122819]\n",
            "Iteration 5 - rmse: [786916.06199148 788342.01724536 791125.15122819]\n",
            "Iteration 6 - rmse: [786916.06199148 788342.01724536 791125.15122819]\n",
            "Iteration 7 - rmse: [786916.06199148 788342.01724536 791125.15122819]\n",
            "Iteration 8 - rmse: [786916.06199148 788342.01724536 791125.15122819]\n",
            "Iteration 9 - rmse: [786916.06199148 788342.01724536 791125.15122819]\n",
            "Iteration 10 - rmse: [786916.06199148 788342.01724536 791125.15122819]\n"
          ]
        },
        {
          "output_type": "display_data",
          "data": {
            "text/plain": [
              "<Figure size 640x480 with 1 Axes>"
            ],
            "image/png": "[encoded data removed]"
          },
          "metadata": {}
        }
      ]
    },
    {
      "cell_type": "code",
      "source": [
        "print(rmse_matrix[0,:])"
      ],
      "metadata": {
        "colab": {
          "base_uri": "https://localhost:8080/"
        },
        "id": "VnPHkovcq2KS",
        "outputId": "699c42e9-9636-4b66-b86a-3625a22f15ad"
      },
      "execution_count": null,
      "outputs": [
        {
          "output_type": "stream",
          "name": "stdout",
          "text": [
            "[786916.06199148 786916.06199148 786916.06199148 786916.06199148\n",
            " 786916.06199148 786916.06199148 786916.06199148 786916.06199148\n",
            " 786916.06199148 786916.06199148]\n"
          ]
        }
      ]
    }
  ]
}