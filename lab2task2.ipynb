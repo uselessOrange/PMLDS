{
 "cells": [
  {
   "cell_type": "code",
   "execution_count": 1,
   "metadata": {},
   "outputs": [
    {
     "name": "stdout",
     "output_type": "stream",
     "text": [
      "List of dishes:\n",
      "Butter Chicken\n",
      "Grilled Salmon\n",
      "Vegetable Stir Fry\n",
      "Pekan Duck\n",
      "Burrito\n",
      "Number of dishes: 5\n"
     ]
    }
   ],
   "source": [
    "dishes = [\"Butter Chicken\", \"Grilled Salmon\", \"Vegetable Stir Fry\", \"Pekan Duck\", \"Burrito\"]\n"
   ]
  },
  {
   "cell_type": "code",
   "execution_count": null,
   "metadata": {},
   "outputs": [],
   "source": [
    "print(\"List of dishes:\")\n",
    "counter = 0\n",
    "\n",
    "while counter < len(dishes):\n",
    "    print(dishes[counter])\n",
    "    counter += 1\n",
    "\n",
    "print(\"Number of dishes:\", len(dishes))"
   ]
  }
 ],
 "metadata": {
  "kernelspec": {
   "display_name": "Python 3",
   "language": "python",
   "name": "python3"
  },
  "language_info": {
   "codemirror_mode": {
    "name": "ipython",
    "version": 3
   },
   "file_extension": ".py",
   "mimetype": "text/x-python",
   "name": "python",
   "nbconvert_exporter": "python",
   "pygments_lexer": "ipython3",
   "version": "3.10.12"
  }
 },
 "nbformat": 4,
 "nbformat_minor": 2
}
