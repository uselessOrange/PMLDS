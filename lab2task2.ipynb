{
 "cells": [
  {
   "cell_type": "code",
   "execution_count": null,
   "metadata": {},
   "outputs": [],
   "source": [
    "dishes = [\"Butter Chicken\", \"Grilled Salmon\", \"Vegetable Stir Fry\", \"Pekan Duck\", \"Burrito\"]\n",
    "\n",
    "print(\"List of dishes:\")\n",
    "for dish in dishes:\n",
    "    print(dish)\n",
    "\n",
    "print(\"Number of dishes:\", len(dishes))\n"
   ]
  }
 ],
 "metadata": {
  "language_info": {
   "name": "python"
  }
 },
 "nbformat": 4,
 "nbformat_minor": 2
}
